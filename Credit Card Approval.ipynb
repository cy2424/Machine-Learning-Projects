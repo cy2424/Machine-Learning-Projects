{
 "cells": [
  {
   "attachments": {},
   "cell_type": "markdown",
   "id": "e1ceb102",
   "metadata": {},
   "source": [
    "# Problem Statemen:\n",
    "\n",
    "Banks wants to know whether credit facility will extend to the customer based on the customer data, for this analysis, bank is using individual customer geography details, gender, income, industry employment and experience.\n",
    "\n",
    "Using Chi2_square_test and ANOVA test and different ML algorithym, we are trying to predict the credit card approval."
   ]
  },
  {
   "cell_type": "code",
   "execution_count": 62,
   "id": "6a991d19",
   "metadata": {},
   "outputs": [],
   "source": [
    "import pandas as pd\n",
    "import numpy as np\n",
    "import matplotlib.pyplot as plt\n",
    "import seaborn as sns\n",
    "from scipy.stats import chi2_contingency\n",
    "import stat\n",
    "import pickle\n",
    "from scipy.stats import iqr"
   ]
  },
  {
   "cell_type": "code",
   "execution_count": 63,
   "id": "57a16a39",
   "metadata": {},
   "outputs": [
    {
     "data": {
      "text/html": [
       "<div>\n",
       "<style scoped>\n",
       "    .dataframe tbody tr th:only-of-type {\n",
       "        vertical-align: middle;\n",
       "    }\n",
       "\n",
       "    .dataframe tbody tr th {\n",
       "        vertical-align: top;\n",
       "    }\n",
       "\n",
       "    .dataframe thead th {\n",
       "        text-align: right;\n",
       "    }\n",
       "</style>\n",
       "<table border=\"1\" class=\"dataframe\">\n",
       "  <thead>\n",
       "    <tr style=\"text-align: right;\">\n",
       "      <th></th>\n",
       "      <th>Gender</th>\n",
       "      <th>Age</th>\n",
       "      <th>Debt</th>\n",
       "      <th>Married</th>\n",
       "      <th>BankCustomer</th>\n",
       "      <th>Industry</th>\n",
       "      <th>Ethnicity</th>\n",
       "      <th>YearsEmployed</th>\n",
       "      <th>PriorDefault</th>\n",
       "      <th>Employed</th>\n",
       "      <th>CreditScore</th>\n",
       "      <th>DriversLicense</th>\n",
       "      <th>Citizen</th>\n",
       "      <th>ZipCode</th>\n",
       "      <th>Income</th>\n",
       "      <th>Approved</th>\n",
       "    </tr>\n",
       "  </thead>\n",
       "  <tbody>\n",
       "    <tr>\n",
       "      <th>0</th>\n",
       "      <td>1</td>\n",
       "      <td>30.83</td>\n",
       "      <td>0.000</td>\n",
       "      <td>1</td>\n",
       "      <td>1</td>\n",
       "      <td>Industrials</td>\n",
       "      <td>White</td>\n",
       "      <td>1.25</td>\n",
       "      <td>1</td>\n",
       "      <td>1</td>\n",
       "      <td>1</td>\n",
       "      <td>0</td>\n",
       "      <td>ByBirth</td>\n",
       "      <td>202</td>\n",
       "      <td>0</td>\n",
       "      <td>1</td>\n",
       "    </tr>\n",
       "    <tr>\n",
       "      <th>1</th>\n",
       "      <td>0</td>\n",
       "      <td>58.67</td>\n",
       "      <td>4.460</td>\n",
       "      <td>1</td>\n",
       "      <td>1</td>\n",
       "      <td>Materials</td>\n",
       "      <td>Black</td>\n",
       "      <td>3.04</td>\n",
       "      <td>1</td>\n",
       "      <td>1</td>\n",
       "      <td>6</td>\n",
       "      <td>0</td>\n",
       "      <td>ByBirth</td>\n",
       "      <td>43</td>\n",
       "      <td>560</td>\n",
       "      <td>1</td>\n",
       "    </tr>\n",
       "    <tr>\n",
       "      <th>2</th>\n",
       "      <td>0</td>\n",
       "      <td>24.50</td>\n",
       "      <td>0.500</td>\n",
       "      <td>1</td>\n",
       "      <td>1</td>\n",
       "      <td>Materials</td>\n",
       "      <td>Black</td>\n",
       "      <td>1.50</td>\n",
       "      <td>1</td>\n",
       "      <td>0</td>\n",
       "      <td>0</td>\n",
       "      <td>0</td>\n",
       "      <td>ByBirth</td>\n",
       "      <td>280</td>\n",
       "      <td>824</td>\n",
       "      <td>1</td>\n",
       "    </tr>\n",
       "    <tr>\n",
       "      <th>3</th>\n",
       "      <td>1</td>\n",
       "      <td>27.83</td>\n",
       "      <td>1.540</td>\n",
       "      <td>1</td>\n",
       "      <td>1</td>\n",
       "      <td>Industrials</td>\n",
       "      <td>White</td>\n",
       "      <td>3.75</td>\n",
       "      <td>1</td>\n",
       "      <td>1</td>\n",
       "      <td>5</td>\n",
       "      <td>1</td>\n",
       "      <td>ByBirth</td>\n",
       "      <td>100</td>\n",
       "      <td>3</td>\n",
       "      <td>1</td>\n",
       "    </tr>\n",
       "    <tr>\n",
       "      <th>4</th>\n",
       "      <td>1</td>\n",
       "      <td>20.17</td>\n",
       "      <td>5.625</td>\n",
       "      <td>1</td>\n",
       "      <td>1</td>\n",
       "      <td>Industrials</td>\n",
       "      <td>White</td>\n",
       "      <td>1.71</td>\n",
       "      <td>1</td>\n",
       "      <td>0</td>\n",
       "      <td>0</td>\n",
       "      <td>0</td>\n",
       "      <td>ByOtherMeans</td>\n",
       "      <td>120</td>\n",
       "      <td>0</td>\n",
       "      <td>1</td>\n",
       "    </tr>\n",
       "    <tr>\n",
       "      <th>...</th>\n",
       "      <td>...</td>\n",
       "      <td>...</td>\n",
       "      <td>...</td>\n",
       "      <td>...</td>\n",
       "      <td>...</td>\n",
       "      <td>...</td>\n",
       "      <td>...</td>\n",
       "      <td>...</td>\n",
       "      <td>...</td>\n",
       "      <td>...</td>\n",
       "      <td>...</td>\n",
       "      <td>...</td>\n",
       "      <td>...</td>\n",
       "      <td>...</td>\n",
       "      <td>...</td>\n",
       "      <td>...</td>\n",
       "    </tr>\n",
       "    <tr>\n",
       "      <th>685</th>\n",
       "      <td>1</td>\n",
       "      <td>21.08</td>\n",
       "      <td>10.085</td>\n",
       "      <td>0</td>\n",
       "      <td>0</td>\n",
       "      <td>Education</td>\n",
       "      <td>Black</td>\n",
       "      <td>1.25</td>\n",
       "      <td>0</td>\n",
       "      <td>0</td>\n",
       "      <td>0</td>\n",
       "      <td>0</td>\n",
       "      <td>ByBirth</td>\n",
       "      <td>260</td>\n",
       "      <td>0</td>\n",
       "      <td>0</td>\n",
       "    </tr>\n",
       "    <tr>\n",
       "      <th>686</th>\n",
       "      <td>0</td>\n",
       "      <td>22.67</td>\n",
       "      <td>0.750</td>\n",
       "      <td>1</td>\n",
       "      <td>1</td>\n",
       "      <td>Energy</td>\n",
       "      <td>White</td>\n",
       "      <td>2.00</td>\n",
       "      <td>0</td>\n",
       "      <td>1</td>\n",
       "      <td>2</td>\n",
       "      <td>1</td>\n",
       "      <td>ByBirth</td>\n",
       "      <td>200</td>\n",
       "      <td>394</td>\n",
       "      <td>0</td>\n",
       "    </tr>\n",
       "    <tr>\n",
       "      <th>687</th>\n",
       "      <td>0</td>\n",
       "      <td>25.25</td>\n",
       "      <td>13.500</td>\n",
       "      <td>0</td>\n",
       "      <td>0</td>\n",
       "      <td>Healthcare</td>\n",
       "      <td>Latino</td>\n",
       "      <td>2.00</td>\n",
       "      <td>0</td>\n",
       "      <td>1</td>\n",
       "      <td>1</td>\n",
       "      <td>1</td>\n",
       "      <td>ByBirth</td>\n",
       "      <td>200</td>\n",
       "      <td>1</td>\n",
       "      <td>0</td>\n",
       "    </tr>\n",
       "    <tr>\n",
       "      <th>688</th>\n",
       "      <td>1</td>\n",
       "      <td>17.92</td>\n",
       "      <td>0.205</td>\n",
       "      <td>1</td>\n",
       "      <td>1</td>\n",
       "      <td>ConsumerStaples</td>\n",
       "      <td>White</td>\n",
       "      <td>0.04</td>\n",
       "      <td>0</td>\n",
       "      <td>0</td>\n",
       "      <td>0</td>\n",
       "      <td>0</td>\n",
       "      <td>ByBirth</td>\n",
       "      <td>280</td>\n",
       "      <td>750</td>\n",
       "      <td>0</td>\n",
       "    </tr>\n",
       "    <tr>\n",
       "      <th>689</th>\n",
       "      <td>1</td>\n",
       "      <td>35.00</td>\n",
       "      <td>3.375</td>\n",
       "      <td>1</td>\n",
       "      <td>1</td>\n",
       "      <td>Energy</td>\n",
       "      <td>Black</td>\n",
       "      <td>8.29</td>\n",
       "      <td>0</td>\n",
       "      <td>0</td>\n",
       "      <td>0</td>\n",
       "      <td>1</td>\n",
       "      <td>ByBirth</td>\n",
       "      <td>0</td>\n",
       "      <td>0</td>\n",
       "      <td>0</td>\n",
       "    </tr>\n",
       "  </tbody>\n",
       "</table>\n",
       "<p>690 rows × 16 columns</p>\n",
       "</div>"
      ],
      "text/plain": [
       "     Gender    Age    Debt  Married  BankCustomer         Industry Ethnicity  \\\n",
       "0         1  30.83   0.000        1             1      Industrials     White   \n",
       "1         0  58.67   4.460        1             1        Materials     Black   \n",
       "2         0  24.50   0.500        1             1        Materials     Black   \n",
       "3         1  27.83   1.540        1             1      Industrials     White   \n",
       "4         1  20.17   5.625        1             1      Industrials     White   \n",
       "..      ...    ...     ...      ...           ...              ...       ...   \n",
       "685       1  21.08  10.085        0             0        Education     Black   \n",
       "686       0  22.67   0.750        1             1           Energy     White   \n",
       "687       0  25.25  13.500        0             0       Healthcare    Latino   \n",
       "688       1  17.92   0.205        1             1  ConsumerStaples     White   \n",
       "689       1  35.00   3.375        1             1           Energy     Black   \n",
       "\n",
       "     YearsEmployed  PriorDefault  Employed  CreditScore  DriversLicense  \\\n",
       "0             1.25             1         1            1               0   \n",
       "1             3.04             1         1            6               0   \n",
       "2             1.50             1         0            0               0   \n",
       "3             3.75             1         1            5               1   \n",
       "4             1.71             1         0            0               0   \n",
       "..             ...           ...       ...          ...             ...   \n",
       "685           1.25             0         0            0               0   \n",
       "686           2.00             0         1            2               1   \n",
       "687           2.00             0         1            1               1   \n",
       "688           0.04             0         0            0               0   \n",
       "689           8.29             0         0            0               1   \n",
       "\n",
       "          Citizen  ZipCode  Income  Approved  \n",
       "0         ByBirth      202       0         1  \n",
       "1         ByBirth       43     560         1  \n",
       "2         ByBirth      280     824         1  \n",
       "3         ByBirth      100       3         1  \n",
       "4    ByOtherMeans      120       0         1  \n",
       "..            ...      ...     ...       ...  \n",
       "685       ByBirth      260       0         0  \n",
       "686       ByBirth      200     394         0  \n",
       "687       ByBirth      200       1         0  \n",
       "688       ByBirth      280     750         0  \n",
       "689       ByBirth        0       0         0  \n",
       "\n",
       "[690 rows x 16 columns]"
      ]
     },
     "execution_count": 63,
     "metadata": {},
     "output_type": "execute_result"
    }
   ],
   "source": [
    "#Read the dataset\n",
    "df=pd.read_csv(r\"C:\\Users\\User\\Documents\\Machine Learning Projects\\clean_dataset.csv\")\n",
    "df"
   ]
  },
  {
   "cell_type": "code",
   "execution_count": 64,
   "id": "c3a766de",
   "metadata": {},
   "outputs": [
    {
     "name": "stdout",
     "output_type": "stream",
     "text": [
      "<class 'pandas.core.frame.DataFrame'>\n",
      "RangeIndex: 690 entries, 0 to 689\n",
      "Data columns (total 16 columns):\n",
      " #   Column          Non-Null Count  Dtype  \n",
      "---  ------          --------------  -----  \n",
      " 0   Gender          690 non-null    int64  \n",
      " 1   Age             690 non-null    float64\n",
      " 2   Debt            690 non-null    float64\n",
      " 3   Married         690 non-null    int64  \n",
      " 4   BankCustomer    690 non-null    int64  \n",
      " 5   Industry        690 non-null    object \n",
      " 6   Ethnicity       690 non-null    object \n",
      " 7   YearsEmployed   690 non-null    float64\n",
      " 8   PriorDefault    690 non-null    int64  \n",
      " 9   Employed        690 non-null    int64  \n",
      " 10  CreditScore     690 non-null    int64  \n",
      " 11  DriversLicense  690 non-null    int64  \n",
      " 12  Citizen         690 non-null    object \n",
      " 13  ZipCode         690 non-null    int64  \n",
      " 14  Income          690 non-null    int64  \n",
      " 15  Approved        690 non-null    int64  \n",
      "dtypes: float64(3), int64(10), object(3)\n",
      "memory usage: 86.4+ KB\n"
     ]
    }
   ],
   "source": [
    "#check the datasets info\n",
    "df.info()"
   ]
  },
  {
   "cell_type": "code",
   "execution_count": 65,
   "id": "4151923d",
   "metadata": {},
   "outputs": [
    {
     "data": {
      "text/plain": [
       "Gender            0\n",
       "Age               0\n",
       "Debt              0\n",
       "Married           0\n",
       "BankCustomer      0\n",
       "Industry          0\n",
       "Ethnicity         0\n",
       "YearsEmployed     0\n",
       "PriorDefault      0\n",
       "Employed          0\n",
       "CreditScore       0\n",
       "DriversLicense    0\n",
       "Citizen           0\n",
       "ZipCode           0\n",
       "Income            0\n",
       "Approved          0\n",
       "dtype: int64"
      ]
     },
     "execution_count": 65,
     "metadata": {},
     "output_type": "execute_result"
    }
   ],
   "source": [
    "#check null values in the dataset\n",
    "df.isnull().sum()"
   ]
  },
  {
   "cell_type": "code",
   "execution_count": 66,
   "id": "53ea2ea6",
   "metadata": {},
   "outputs": [
    {
     "data": {
      "text/html": [
       "<div>\n",
       "<style scoped>\n",
       "    .dataframe tbody tr th:only-of-type {\n",
       "        vertical-align: middle;\n",
       "    }\n",
       "\n",
       "    .dataframe tbody tr th {\n",
       "        vertical-align: top;\n",
       "    }\n",
       "\n",
       "    .dataframe thead th {\n",
       "        text-align: right;\n",
       "    }\n",
       "</style>\n",
       "<table border=\"1\" class=\"dataframe\">\n",
       "  <thead>\n",
       "    <tr style=\"text-align: right;\">\n",
       "      <th></th>\n",
       "      <th>Gender</th>\n",
       "      <th>Age</th>\n",
       "      <th>Debt</th>\n",
       "      <th>Married</th>\n",
       "      <th>BankCustomer</th>\n",
       "      <th>YearsEmployed</th>\n",
       "      <th>PriorDefault</th>\n",
       "      <th>Employed</th>\n",
       "      <th>CreditScore</th>\n",
       "      <th>DriversLicense</th>\n",
       "      <th>ZipCode</th>\n",
       "      <th>Income</th>\n",
       "      <th>Approved</th>\n",
       "    </tr>\n",
       "  </thead>\n",
       "  <tbody>\n",
       "    <tr>\n",
       "      <th>count</th>\n",
       "      <td>690.000000</td>\n",
       "      <td>690.000000</td>\n",
       "      <td>690.000000</td>\n",
       "      <td>690.000000</td>\n",
       "      <td>690.000000</td>\n",
       "      <td>690.000000</td>\n",
       "      <td>690.000000</td>\n",
       "      <td>690.000000</td>\n",
       "      <td>690.00000</td>\n",
       "      <td>690.000000</td>\n",
       "      <td>690.000000</td>\n",
       "      <td>690.000000</td>\n",
       "      <td>690.000000</td>\n",
       "    </tr>\n",
       "    <tr>\n",
       "      <th>mean</th>\n",
       "      <td>0.695652</td>\n",
       "      <td>31.514116</td>\n",
       "      <td>4.758725</td>\n",
       "      <td>0.760870</td>\n",
       "      <td>0.763768</td>\n",
       "      <td>2.223406</td>\n",
       "      <td>0.523188</td>\n",
       "      <td>0.427536</td>\n",
       "      <td>2.40000</td>\n",
       "      <td>0.457971</td>\n",
       "      <td>180.547826</td>\n",
       "      <td>1017.385507</td>\n",
       "      <td>0.444928</td>\n",
       "    </tr>\n",
       "    <tr>\n",
       "      <th>std</th>\n",
       "      <td>0.460464</td>\n",
       "      <td>11.860245</td>\n",
       "      <td>4.978163</td>\n",
       "      <td>0.426862</td>\n",
       "      <td>0.425074</td>\n",
       "      <td>3.346513</td>\n",
       "      <td>0.499824</td>\n",
       "      <td>0.495080</td>\n",
       "      <td>4.86294</td>\n",
       "      <td>0.498592</td>\n",
       "      <td>173.970323</td>\n",
       "      <td>5210.102598</td>\n",
       "      <td>0.497318</td>\n",
       "    </tr>\n",
       "    <tr>\n",
       "      <th>min</th>\n",
       "      <td>0.000000</td>\n",
       "      <td>13.750000</td>\n",
       "      <td>0.000000</td>\n",
       "      <td>0.000000</td>\n",
       "      <td>0.000000</td>\n",
       "      <td>0.000000</td>\n",
       "      <td>0.000000</td>\n",
       "      <td>0.000000</td>\n",
       "      <td>0.00000</td>\n",
       "      <td>0.000000</td>\n",
       "      <td>0.000000</td>\n",
       "      <td>0.000000</td>\n",
       "      <td>0.000000</td>\n",
       "    </tr>\n",
       "    <tr>\n",
       "      <th>25%</th>\n",
       "      <td>0.000000</td>\n",
       "      <td>22.670000</td>\n",
       "      <td>1.000000</td>\n",
       "      <td>1.000000</td>\n",
       "      <td>1.000000</td>\n",
       "      <td>0.165000</td>\n",
       "      <td>0.000000</td>\n",
       "      <td>0.000000</td>\n",
       "      <td>0.00000</td>\n",
       "      <td>0.000000</td>\n",
       "      <td>60.000000</td>\n",
       "      <td>0.000000</td>\n",
       "      <td>0.000000</td>\n",
       "    </tr>\n",
       "    <tr>\n",
       "      <th>50%</th>\n",
       "      <td>1.000000</td>\n",
       "      <td>28.460000</td>\n",
       "      <td>2.750000</td>\n",
       "      <td>1.000000</td>\n",
       "      <td>1.000000</td>\n",
       "      <td>1.000000</td>\n",
       "      <td>1.000000</td>\n",
       "      <td>0.000000</td>\n",
       "      <td>0.00000</td>\n",
       "      <td>0.000000</td>\n",
       "      <td>160.000000</td>\n",
       "      <td>5.000000</td>\n",
       "      <td>0.000000</td>\n",
       "    </tr>\n",
       "    <tr>\n",
       "      <th>75%</th>\n",
       "      <td>1.000000</td>\n",
       "      <td>37.707500</td>\n",
       "      <td>7.207500</td>\n",
       "      <td>1.000000</td>\n",
       "      <td>1.000000</td>\n",
       "      <td>2.625000</td>\n",
       "      <td>1.000000</td>\n",
       "      <td>1.000000</td>\n",
       "      <td>3.00000</td>\n",
       "      <td>1.000000</td>\n",
       "      <td>272.000000</td>\n",
       "      <td>395.500000</td>\n",
       "      <td>1.000000</td>\n",
       "    </tr>\n",
       "    <tr>\n",
       "      <th>max</th>\n",
       "      <td>1.000000</td>\n",
       "      <td>80.250000</td>\n",
       "      <td>28.000000</td>\n",
       "      <td>1.000000</td>\n",
       "      <td>1.000000</td>\n",
       "      <td>28.500000</td>\n",
       "      <td>1.000000</td>\n",
       "      <td>1.000000</td>\n",
       "      <td>67.00000</td>\n",
       "      <td>1.000000</td>\n",
       "      <td>2000.000000</td>\n",
       "      <td>100000.000000</td>\n",
       "      <td>1.000000</td>\n",
       "    </tr>\n",
       "  </tbody>\n",
       "</table>\n",
       "</div>"
      ],
      "text/plain": [
       "           Gender         Age        Debt     Married  BankCustomer  \\\n",
       "count  690.000000  690.000000  690.000000  690.000000    690.000000   \n",
       "mean     0.695652   31.514116    4.758725    0.760870      0.763768   \n",
       "std      0.460464   11.860245    4.978163    0.426862      0.425074   \n",
       "min      0.000000   13.750000    0.000000    0.000000      0.000000   \n",
       "25%      0.000000   22.670000    1.000000    1.000000      1.000000   \n",
       "50%      1.000000   28.460000    2.750000    1.000000      1.000000   \n",
       "75%      1.000000   37.707500    7.207500    1.000000      1.000000   \n",
       "max      1.000000   80.250000   28.000000    1.000000      1.000000   \n",
       "\n",
       "       YearsEmployed  PriorDefault    Employed  CreditScore  DriversLicense  \\\n",
       "count     690.000000    690.000000  690.000000    690.00000      690.000000   \n",
       "mean        2.223406      0.523188    0.427536      2.40000        0.457971   \n",
       "std         3.346513      0.499824    0.495080      4.86294        0.498592   \n",
       "min         0.000000      0.000000    0.000000      0.00000        0.000000   \n",
       "25%         0.165000      0.000000    0.000000      0.00000        0.000000   \n",
       "50%         1.000000      1.000000    0.000000      0.00000        0.000000   \n",
       "75%         2.625000      1.000000    1.000000      3.00000        1.000000   \n",
       "max        28.500000      1.000000    1.000000     67.00000        1.000000   \n",
       "\n",
       "           ZipCode         Income    Approved  \n",
       "count   690.000000     690.000000  690.000000  \n",
       "mean    180.547826    1017.385507    0.444928  \n",
       "std     173.970323    5210.102598    0.497318  \n",
       "min       0.000000       0.000000    0.000000  \n",
       "25%      60.000000       0.000000    0.000000  \n",
       "50%     160.000000       5.000000    0.000000  \n",
       "75%     272.000000     395.500000    1.000000  \n",
       "max    2000.000000  100000.000000    1.000000  "
      ]
     },
     "execution_count": 66,
     "metadata": {},
     "output_type": "execute_result"
    }
   ],
   "source": [
    "#check the mean,mode, standard deviation\n",
    "df.describe()"
   ]
  },
  {
   "cell_type": "code",
   "execution_count": 67,
   "id": "eaf3e417",
   "metadata": {},
   "outputs": [
    {
     "name": "stdout",
     "output_type": "stream",
     "text": [
      "1    480\n",
      "0    210\n",
      "Name: Gender, dtype: int64\n",
      "28.46    12\n",
      "22.67     9\n",
      "20.42     7\n",
      "18.83     6\n",
      "24.50     6\n",
      "         ..\n",
      "48.25     1\n",
      "28.33     1\n",
      "18.75     1\n",
      "18.50     1\n",
      "36.42     1\n",
      "Name: Age, Length: 350, dtype: int64\n",
      "1.500     21\n",
      "0.000     19\n",
      "3.000     19\n",
      "2.500     19\n",
      "0.750     16\n",
      "          ..\n",
      "0.085      1\n",
      "12.250     1\n",
      "11.045     1\n",
      "11.125     1\n",
      "3.375      1\n",
      "Name: Debt, Length: 215, dtype: int64\n",
      "1    525\n",
      "0    165\n",
      "Name: Married, dtype: int64\n",
      "1    527\n",
      "0    163\n",
      "Name: BankCustomer, dtype: int64\n",
      "Energy                   146\n",
      "Materials                 78\n",
      "Industrials               64\n",
      "ConsumerDiscretionary     59\n",
      "ConsumerStaples           54\n",
      "Healthcare                53\n",
      "Financials                51\n",
      "InformationTechnology     41\n",
      "CommunicationServices     38\n",
      "Utilities                 38\n",
      "Real Estate               30\n",
      "Education                 25\n",
      "Research                  10\n",
      "Transport                  3\n",
      "Name: Industry, dtype: int64\n",
      "White     408\n",
      "Black     138\n",
      "Asian      59\n",
      "Latino     57\n",
      "Other      28\n",
      "Name: Ethnicity, dtype: int64\n",
      "0.000    70\n",
      "0.250    35\n",
      "0.040    33\n",
      "1.000    31\n",
      "0.125    30\n",
      "         ..\n",
      "4.165     1\n",
      "9.000     1\n",
      "1.960     1\n",
      "5.125     1\n",
      "8.290     1\n",
      "Name: YearsEmployed, Length: 132, dtype: int64\n",
      "1    361\n",
      "0    329\n",
      "Name: PriorDefault, dtype: int64\n",
      "0    395\n",
      "1    295\n",
      "Name: Employed, dtype: int64\n",
      "0     395\n",
      "1      71\n",
      "2      45\n",
      "3      28\n",
      "6      23\n",
      "11     19\n",
      "5      18\n",
      "7      16\n",
      "4      15\n",
      "9      10\n",
      "8      10\n",
      "10      8\n",
      "14      8\n",
      "12      8\n",
      "15      4\n",
      "16      3\n",
      "20      2\n",
      "17      2\n",
      "23      1\n",
      "40      1\n",
      "67      1\n",
      "13      1\n",
      "19      1\n",
      "Name: CreditScore, dtype: int64\n",
      "0    374\n",
      "1    316\n",
      "Name: DriversLicense, dtype: int64\n",
      "ByBirth         625\n",
      "ByOtherMeans     57\n",
      "Temporary         8\n",
      "Name: Citizen, dtype: int64\n",
      "0      145\n",
      "120     35\n",
      "200     35\n",
      "160     34\n",
      "100     30\n",
      "      ... \n",
      "21       1\n",
      "393      1\n",
      "395      1\n",
      "93       1\n",
      "256      1\n",
      "Name: ZipCode, Length: 170, dtype: int64\n",
      "0       295\n",
      "1        29\n",
      "500      10\n",
      "1000     10\n",
      "2         9\n",
      "       ... \n",
      "1704      1\n",
      "857       1\n",
      "6700      1\n",
      "2503      1\n",
      "750       1\n",
      "Name: Income, Length: 240, dtype: int64\n",
      "0    383\n",
      "1    307\n",
      "Name: Approved, dtype: int64\n"
     ]
    }
   ],
   "source": [
    "#check the value counts for each parameters\n",
    "for i in df:\n",
    " print(df[i].value_counts())"
   ]
  },
  {
   "cell_type": "code",
   "execution_count": 68,
   "id": "eb62340b",
   "metadata": {},
   "outputs": [],
   "source": [
    "#create the list of categorical type variables\n",
    "category=['Gender','Married','BankCustomer','Industry','Ethnicity','PriorDefault','Employed',\n",
    " 'DriversLicense','Citizen','ZipCode','Approved']"
   ]
  },
  {
   "cell_type": "code",
   "execution_count": 69,
   "id": "3c727fed",
   "metadata": {},
   "outputs": [
    {
     "data": {
      "text/html": [
       "<div>\n",
       "<style scoped>\n",
       "    .dataframe tbody tr th:only-of-type {\n",
       "        vertical-align: middle;\n",
       "    }\n",
       "\n",
       "    .dataframe tbody tr th {\n",
       "        vertical-align: top;\n",
       "    }\n",
       "\n",
       "    .dataframe thead th {\n",
       "        text-align: right;\n",
       "    }\n",
       "</style>\n",
       "<table border=\"1\" class=\"dataframe\">\n",
       "  <thead>\n",
       "    <tr style=\"text-align: right;\">\n",
       "      <th></th>\n",
       "      <th>Gender</th>\n",
       "      <th>Married</th>\n",
       "      <th>BankCustomer</th>\n",
       "      <th>Industry</th>\n",
       "      <th>Ethnicity</th>\n",
       "      <th>PriorDefault</th>\n",
       "      <th>Employed</th>\n",
       "      <th>DriversLicense</th>\n",
       "      <th>Citizen</th>\n",
       "      <th>ZipCode</th>\n",
       "      <th>Approved</th>\n",
       "    </tr>\n",
       "  </thead>\n",
       "  <tbody>\n",
       "    <tr>\n",
       "      <th>0</th>\n",
       "      <td>1</td>\n",
       "      <td>1</td>\n",
       "      <td>1</td>\n",
       "      <td>Industrials</td>\n",
       "      <td>White</td>\n",
       "      <td>1</td>\n",
       "      <td>1</td>\n",
       "      <td>0</td>\n",
       "      <td>ByBirth</td>\n",
       "      <td>202</td>\n",
       "      <td>1</td>\n",
       "    </tr>\n",
       "    <tr>\n",
       "      <th>1</th>\n",
       "      <td>0</td>\n",
       "      <td>1</td>\n",
       "      <td>1</td>\n",
       "      <td>Materials</td>\n",
       "      <td>Black</td>\n",
       "      <td>1</td>\n",
       "      <td>1</td>\n",
       "      <td>0</td>\n",
       "      <td>ByBirth</td>\n",
       "      <td>43</td>\n",
       "      <td>1</td>\n",
       "    </tr>\n",
       "    <tr>\n",
       "      <th>2</th>\n",
       "      <td>0</td>\n",
       "      <td>1</td>\n",
       "      <td>1</td>\n",
       "      <td>Materials</td>\n",
       "      <td>Black</td>\n",
       "      <td>1</td>\n",
       "      <td>0</td>\n",
       "      <td>0</td>\n",
       "      <td>ByBirth</td>\n",
       "      <td>280</td>\n",
       "      <td>1</td>\n",
       "    </tr>\n",
       "    <tr>\n",
       "      <th>3</th>\n",
       "      <td>1</td>\n",
       "      <td>1</td>\n",
       "      <td>1</td>\n",
       "      <td>Industrials</td>\n",
       "      <td>White</td>\n",
       "      <td>1</td>\n",
       "      <td>1</td>\n",
       "      <td>1</td>\n",
       "      <td>ByBirth</td>\n",
       "      <td>100</td>\n",
       "      <td>1</td>\n",
       "    </tr>\n",
       "    <tr>\n",
       "      <th>4</th>\n",
       "      <td>1</td>\n",
       "      <td>1</td>\n",
       "      <td>1</td>\n",
       "      <td>Industrials</td>\n",
       "      <td>White</td>\n",
       "      <td>1</td>\n",
       "      <td>0</td>\n",
       "      <td>0</td>\n",
       "      <td>ByOtherMeans</td>\n",
       "      <td>120</td>\n",
       "      <td>1</td>\n",
       "    </tr>\n",
       "    <tr>\n",
       "      <th>...</th>\n",
       "      <td>...</td>\n",
       "      <td>...</td>\n",
       "      <td>...</td>\n",
       "      <td>...</td>\n",
       "      <td>...</td>\n",
       "      <td>...</td>\n",
       "      <td>...</td>\n",
       "      <td>...</td>\n",
       "      <td>...</td>\n",
       "      <td>...</td>\n",
       "      <td>...</td>\n",
       "    </tr>\n",
       "    <tr>\n",
       "      <th>685</th>\n",
       "      <td>1</td>\n",
       "      <td>0</td>\n",
       "      <td>0</td>\n",
       "      <td>Education</td>\n",
       "      <td>Black</td>\n",
       "      <td>0</td>\n",
       "      <td>0</td>\n",
       "      <td>0</td>\n",
       "      <td>ByBirth</td>\n",
       "      <td>260</td>\n",
       "      <td>0</td>\n",
       "    </tr>\n",
       "    <tr>\n",
       "      <th>686</th>\n",
       "      <td>0</td>\n",
       "      <td>1</td>\n",
       "      <td>1</td>\n",
       "      <td>Energy</td>\n",
       "      <td>White</td>\n",
       "      <td>0</td>\n",
       "      <td>1</td>\n",
       "      <td>1</td>\n",
       "      <td>ByBirth</td>\n",
       "      <td>200</td>\n",
       "      <td>0</td>\n",
       "    </tr>\n",
       "    <tr>\n",
       "      <th>687</th>\n",
       "      <td>0</td>\n",
       "      <td>0</td>\n",
       "      <td>0</td>\n",
       "      <td>Healthcare</td>\n",
       "      <td>Latino</td>\n",
       "      <td>0</td>\n",
       "      <td>1</td>\n",
       "      <td>1</td>\n",
       "      <td>ByBirth</td>\n",
       "      <td>200</td>\n",
       "      <td>0</td>\n",
       "    </tr>\n",
       "    <tr>\n",
       "      <th>688</th>\n",
       "      <td>1</td>\n",
       "      <td>1</td>\n",
       "      <td>1</td>\n",
       "      <td>ConsumerStaples</td>\n",
       "      <td>White</td>\n",
       "      <td>0</td>\n",
       "      <td>0</td>\n",
       "      <td>0</td>\n",
       "      <td>ByBirth</td>\n",
       "      <td>280</td>\n",
       "      <td>0</td>\n",
       "    </tr>\n",
       "    <tr>\n",
       "      <th>689</th>\n",
       "      <td>1</td>\n",
       "      <td>1</td>\n",
       "      <td>1</td>\n",
       "      <td>Energy</td>\n",
       "      <td>Black</td>\n",
       "      <td>0</td>\n",
       "      <td>0</td>\n",
       "      <td>1</td>\n",
       "      <td>ByBirth</td>\n",
       "      <td>0</td>\n",
       "      <td>0</td>\n",
       "    </tr>\n",
       "  </tbody>\n",
       "</table>\n",
       "<p>690 rows × 11 columns</p>\n",
       "</div>"
      ],
      "text/plain": [
       "     Gender  Married  BankCustomer         Industry Ethnicity  PriorDefault  \\\n",
       "0         1        1             1      Industrials     White             1   \n",
       "1         0        1             1        Materials     Black             1   \n",
       "2         0        1             1        Materials     Black             1   \n",
       "3         1        1             1      Industrials     White             1   \n",
       "4         1        1             1      Industrials     White             1   \n",
       "..      ...      ...           ...              ...       ...           ...   \n",
       "685       1        0             0        Education     Black             0   \n",
       "686       0        1             1           Energy     White             0   \n",
       "687       0        0             0       Healthcare    Latino             0   \n",
       "688       1        1             1  ConsumerStaples     White             0   \n",
       "689       1        1             1           Energy     Black             0   \n",
       "\n",
       "     Employed  DriversLicense       Citizen  ZipCode  Approved  \n",
       "0           1               0       ByBirth      202         1  \n",
       "1           1               0       ByBirth       43         1  \n",
       "2           0               0       ByBirth      280         1  \n",
       "3           1               1       ByBirth      100         1  \n",
       "4           0               0  ByOtherMeans      120         1  \n",
       "..        ...             ...           ...      ...       ...  \n",
       "685         0               0       ByBirth      260         0  \n",
       "686         1               1       ByBirth      200         0  \n",
       "687         1               1       ByBirth      200         0  \n",
       "688         0               0       ByBirth      280         0  \n",
       "689         0               1       ByBirth        0         0  \n",
       "\n",
       "[690 rows x 11 columns]"
      ]
     },
     "execution_count": 69,
     "metadata": {},
     "output_type": "execute_result"
    }
   ],
   "source": [
    "df.loc[:,category]"
   ]
  },
  {
   "attachments": {},
   "cell_type": "markdown",
   "id": "67bda942",
   "metadata": {},
   "source": [
    "# Statistical Testing using Chisquare:"
   ]
  },
  {
   "cell_type": "code",
   "execution_count": 70,
   "id": "cb3106a3",
   "metadata": {},
   "outputs": [],
   "source": [
    "import colorama\n",
    "from colorama import Fore"
   ]
  },
  {
   "cell_type": "code",
   "execution_count": 71,
   "id": "fe401ed8",
   "metadata": {},
   "outputs": [
    {
     "name": "stdout",
     "output_type": "stream",
     "text": [
      "Gender:\n"
     ]
    },
    {
     "data": {
      "image/png": "[encoded data removed]",
      "text/plain": [
       "<Figure size 720x360 with 1 Axes>"
      ]
     },
     "metadata": {
      "needs_background": "light"
     },
     "output_type": "display_data"
    },
    {
     "name": "stdout",
     "output_type": "stream",
     "text": [
      "\u001b[31m'Gender'is a 'bad Predictor'\n",
      "p_val=0.44723087514133186\n",
      "\n",
      "Married:\n"
     ]
    },
    {
     "data": {
      "image/png": "[encoded data removed]",
      "text/plain": [
       "<Figure size 720x360 with 1 Axes>"
      ]
     },
     "metadata": {
      "needs_background": "light"
     },
     "output_type": "display_data"
    },
    {
     "name": "stdout",
     "output_type": "stream",
     "text": [
      "\u001b[32m'Married' is a Good Predictor\n",
      "p_val=2.100231920165588e-06\n",
      "\n",
      "BankCustomer:\n"
     ]
    },
    {
     "data": {
      "image/png": "[encoded data removed]",
      "text/plain": [
       "<Figure size 720x360 with 1 Axes>"
      ]
     },
     "metadata": {
      "needs_background": "light"
     },
     "output_type": "display_data"
    },
    {
     "name": "stdout",
     "output_type": "stream",
     "text": [
      "\u001b[32m'BankCustomer' is a Good Predictor\n",
      "p_val=6.91661320541803e-07\n",
      "\n",
      "Industry:\n"
     ]
    },
    {
     "data": {
      "image/png": "[encoded data removed]",
      "text/plain": [
       "<Figure size 720x360 with 1 Axes>"
      ]
     },
     "metadata": {
      "needs_background": "light"
     },
     "output_type": "display_data"
    },
    {
     "name": "stdout",
     "output_type": "stream",
     "text": [
      "\u001b[32m'Industry' is a Good Predictor\n",
      "p_val=3.502987066102042e-15\n",
      "\n",
      "Ethnicity:\n"
     ]
    },
    {
     "data": {
      "image/png": "[encoded data removed]",
      "text/plain": [
       "<Figure size 720x360 with 1 Axes>"
      ]
     },
     "metadata": {
      "needs_background": "light"
     },
     "output_type": "display_data"
    },
    {
     "name": "stdout",
     "output_type": "stream",
     "text": [
      "\u001b[32m'Ethnicity' is a Good Predictor\n",
      "p_val=1.8236656549346847e-08\n",
      "\n",
      "PriorDefault:\n"
     ]
    },
    {
     "data": {
      "image/png": "[encoded data removed]",
      "text/plain": [
       "<Figure size 720x360 with 1 Axes>"
      ]
     },
     "metadata": {
      "needs_background": "light"
     },
     "output_type": "display_data"
    },
    {
     "name": "stdout",
     "output_type": "stream",
     "text": [
      "\u001b[32m'PriorDefault' is a Good Predictor\n",
      "p_val=7.298530125411298e-80\n",
      "\n",
      "Employed:\n"
     ]
    },
    {
     "data": {
      "image/png": "[encoded data removed]",
      "text/plain": [
       "<Figure size 720x360 with 1 Axes>"
      ]
     },
     "metadata": {
      "needs_background": "light"
     },
     "output_type": "display_data"
    },
    {
     "name": "stdout",
     "output_type": "stream",
     "text": [
      "\u001b[32m'Employed' is a Good Predictor\n",
      "p_val=2.2272693453122814e-33\n",
      "\n",
      "DriversLicense:\n"
     ]
    },
    {
     "data": {
      "image/png": "[encoded data removed]",
      "text/plain": [
       "<Figure size 720x360 with 1 Axes>"
      ]
     },
     "metadata": {
      "needs_background": "light"
     },
     "output_type": "display_data"
    },
    {
     "name": "stdout",
     "output_type": "stream",
     "text": [
      "\u001b[31m'DriversLicense'is a 'bad Predictor'\n",
      "p_val=0.4061341323141693\n",
      "\n",
      "Citizen:\n"
     ]
    },
    {
     "data": {
      "image/png": "[encoded data removed]",
      "text/plain": [
       "<Figure size 720x360 with 1 Axes>"
      ]
     },
     "metadata": {
      "needs_background": "light"
     },
     "output_type": "display_data"
    },
    {
     "name": "stdout",
     "output_type": "stream",
     "text": [
      "\u001b[32m'Citizen' is a Good Predictor\n",
      "p_val=0.01009429137045636\n",
      "\n",
      "ZipCode:\n"
     ]
    },
    {
     "data": {
      "image/png": "[encoded data removed]",
      "text/plain": [
       "<Figure size 720x360 with 1 Axes>"
      ]
     },
     "metadata": {
      "needs_background": "light"
     },
     "output_type": "display_data"
    },
    {
     "name": "stdout",
     "output_type": "stream",
     "text": [
      "\u001b[32m'ZipCode' is a Good Predictor\n",
      "p_val=0.006354824252183887\n",
      "\n",
      "Approved:\n"
     ]
    },
    {
     "data": {
      "image/png": "[encoded data removed]",
      "text/plain": [
       "<Figure size 720x360 with 1 Axes>"
      ]
     },
     "metadata": {
      "needs_background": "light"
     },
     "output_type": "display_data"
    },
    {
     "name": "stdout",
     "output_type": "stream",
     "text": [
      "\u001b[32m'Approved' is a Good Predictor\n",
      "p_val=4.469841378183071e-152\n",
      "\n"
     ]
    }
   ],
   "source": [
    "for i in category:\n",
    "     print(i+\":\")\n",
    "     plt.figure(figsize=(10,5))\n",
    "     sns.countplot(x=i,data=df,hue=\"Approved\")\n",
    "     plt.show()\n",
    "     a=np.array(pd.crosstab(df.Approved,df[i]))\n",
    "     (stats,p,dof,_)=chi2_contingency(a,correction=False)\n",
    "     if p>0.05:\n",
    "         print(Fore.RED + \"'{}'is a 'bad Predictor'\".format(i))\n",
    "         print('p_val={}\\n'.format(p))\n",
    "     else:\n",
    "         print(Fore.GREEN + \"'{}' is a Good Predictor\".format(i))\n",
    "         print('p_val={}\\n'.format(p))"
   ]
  },
  {
   "attachments": {},
   "cell_type": "markdown",
   "id": "10aa0a0c",
   "metadata": {},
   "source": [
    "## __Gender:__\n",
    "\n",
    "\"we see that majority of credit card holders are males \" \"since Gender is a bad predictor towards Approval we\n",
    "drop the attribute\"\n"
   ]
  },
  {
   "cell_type": "code",
   "execution_count": 72,
   "id": "369a7cdc",
   "metadata": {},
   "outputs": [],
   "source": [
    "df.drop(['Gender'],axis=1,inplace=True)"
   ]
  },
  {
   "cell_type": "code",
   "execution_count": 73,
   "id": "bc84d764",
   "metadata": {},
   "outputs": [
    {
     "data": {
      "text/html": [
       "<div>\n",
       "<style scoped>\n",
       "    .dataframe tbody tr th:only-of-type {\n",
       "        vertical-align: middle;\n",
       "    }\n",
       "\n",
       "    .dataframe tbody tr th {\n",
       "        vertical-align: top;\n",
       "    }\n",
       "\n",
       "    .dataframe thead th {\n",
       "        text-align: right;\n",
       "    }\n",
       "</style>\n",
       "<table border=\"1\" class=\"dataframe\">\n",
       "  <thead>\n",
       "    <tr style=\"text-align: right;\">\n",
       "      <th></th>\n",
       "      <th>Age</th>\n",
       "      <th>Debt</th>\n",
       "      <th>Married</th>\n",
       "      <th>BankCustomer</th>\n",
       "      <th>Industry</th>\n",
       "      <th>Ethnicity</th>\n",
       "      <th>YearsEmployed</th>\n",
       "      <th>PriorDefault</th>\n",
       "      <th>Employed</th>\n",
       "      <th>CreditScore</th>\n",
       "      <th>DriversLicense</th>\n",
       "      <th>Citizen</th>\n",
       "      <th>ZipCode</th>\n",
       "      <th>Income</th>\n",
       "      <th>Approved</th>\n",
       "    </tr>\n",
       "  </thead>\n",
       "  <tbody>\n",
       "    <tr>\n",
       "      <th>0</th>\n",
       "      <td>30.83</td>\n",
       "      <td>0.000</td>\n",
       "      <td>1</td>\n",
       "      <td>1</td>\n",
       "      <td>Industrials</td>\n",
       "      <td>White</td>\n",
       "      <td>1.25</td>\n",
       "      <td>1</td>\n",
       "      <td>1</td>\n",
       "      <td>1</td>\n",
       "      <td>0</td>\n",
       "      <td>ByBirth</td>\n",
       "      <td>202</td>\n",
       "      <td>0</td>\n",
       "      <td>1</td>\n",
       "    </tr>\n",
       "    <tr>\n",
       "      <th>1</th>\n",
       "      <td>58.67</td>\n",
       "      <td>4.460</td>\n",
       "      <td>1</td>\n",
       "      <td>1</td>\n",
       "      <td>Materials</td>\n",
       "      <td>Black</td>\n",
       "      <td>3.04</td>\n",
       "      <td>1</td>\n",
       "      <td>1</td>\n",
       "      <td>6</td>\n",
       "      <td>0</td>\n",
       "      <td>ByBirth</td>\n",
       "      <td>43</td>\n",
       "      <td>560</td>\n",
       "      <td>1</td>\n",
       "    </tr>\n",
       "    <tr>\n",
       "      <th>2</th>\n",
       "      <td>24.50</td>\n",
       "      <td>0.500</td>\n",
       "      <td>1</td>\n",
       "      <td>1</td>\n",
       "      <td>Materials</td>\n",
       "      <td>Black</td>\n",
       "      <td>1.50</td>\n",
       "      <td>1</td>\n",
       "      <td>0</td>\n",
       "      <td>0</td>\n",
       "      <td>0</td>\n",
       "      <td>ByBirth</td>\n",
       "      <td>280</td>\n",
       "      <td>824</td>\n",
       "      <td>1</td>\n",
       "    </tr>\n",
       "    <tr>\n",
       "      <th>3</th>\n",
       "      <td>27.83</td>\n",
       "      <td>1.540</td>\n",
       "      <td>1</td>\n",
       "      <td>1</td>\n",
       "      <td>Industrials</td>\n",
       "      <td>White</td>\n",
       "      <td>3.75</td>\n",
       "      <td>1</td>\n",
       "      <td>1</td>\n",
       "      <td>5</td>\n",
       "      <td>1</td>\n",
       "      <td>ByBirth</td>\n",
       "      <td>100</td>\n",
       "      <td>3</td>\n",
       "      <td>1</td>\n",
       "    </tr>\n",
       "    <tr>\n",
       "      <th>4</th>\n",
       "      <td>20.17</td>\n",
       "      <td>5.625</td>\n",
       "      <td>1</td>\n",
       "      <td>1</td>\n",
       "      <td>Industrials</td>\n",
       "      <td>White</td>\n",
       "      <td>1.71</td>\n",
       "      <td>1</td>\n",
       "      <td>0</td>\n",
       "      <td>0</td>\n",
       "      <td>0</td>\n",
       "      <td>ByOtherMeans</td>\n",
       "      <td>120</td>\n",
       "      <td>0</td>\n",
       "      <td>1</td>\n",
       "    </tr>\n",
       "    <tr>\n",
       "      <th>...</th>\n",
       "      <td>...</td>\n",
       "      <td>...</td>\n",
       "      <td>...</td>\n",
       "      <td>...</td>\n",
       "      <td>...</td>\n",
       "      <td>...</td>\n",
       "      <td>...</td>\n",
       "      <td>...</td>\n",
       "      <td>...</td>\n",
       "      <td>...</td>\n",
       "      <td>...</td>\n",
       "      <td>...</td>\n",
       "      <td>...</td>\n",
       "      <td>...</td>\n",
       "      <td>...</td>\n",
       "    </tr>\n",
       "    <tr>\n",
       "      <th>685</th>\n",
       "      <td>21.08</td>\n",
       "      <td>10.085</td>\n",
       "      <td>0</td>\n",
       "      <td>0</td>\n",
       "      <td>Education</td>\n",
       "      <td>Black</td>\n",
       "      <td>1.25</td>\n",
       "      <td>0</td>\n",
       "      <td>0</td>\n",
       "      <td>0</td>\n",
       "      <td>0</td>\n",
       "      <td>ByBirth</td>\n",
       "      <td>260</td>\n",
       "      <td>0</td>\n",
       "      <td>0</td>\n",
       "    </tr>\n",
       "    <tr>\n",
       "      <th>686</th>\n",
       "      <td>22.67</td>\n",
       "      <td>0.750</td>\n",
       "      <td>1</td>\n",
       "      <td>1</td>\n",
       "      <td>Energy</td>\n",
       "      <td>White</td>\n",
       "      <td>2.00</td>\n",
       "      <td>0</td>\n",
       "      <td>1</td>\n",
       "      <td>2</td>\n",
       "      <td>1</td>\n",
       "      <td>ByBirth</td>\n",
       "      <td>200</td>\n",
       "      <td>394</td>\n",
       "      <td>0</td>\n",
       "    </tr>\n",
       "    <tr>\n",
       "      <th>687</th>\n",
       "      <td>25.25</td>\n",
       "      <td>13.500</td>\n",
       "      <td>0</td>\n",
       "      <td>0</td>\n",
       "      <td>Healthcare</td>\n",
       "      <td>Latino</td>\n",
       "      <td>2.00</td>\n",
       "      <td>0</td>\n",
       "      <td>1</td>\n",
       "      <td>1</td>\n",
       "      <td>1</td>\n",
       "      <td>ByBirth</td>\n",
       "      <td>200</td>\n",
       "      <td>1</td>\n",
       "      <td>0</td>\n",
       "    </tr>\n",
       "    <tr>\n",
       "      <th>688</th>\n",
       "      <td>17.92</td>\n",
       "      <td>0.205</td>\n",
       "      <td>1</td>\n",
       "      <td>1</td>\n",
       "      <td>ConsumerStaples</td>\n",
       "      <td>White</td>\n",
       "      <td>0.04</td>\n",
       "      <td>0</td>\n",
       "      <td>0</td>\n",
       "      <td>0</td>\n",
       "      <td>0</td>\n",
       "      <td>ByBirth</td>\n",
       "      <td>280</td>\n",
       "      <td>750</td>\n",
       "      <td>0</td>\n",
       "    </tr>\n",
       "    <tr>\n",
       "      <th>689</th>\n",
       "      <td>35.00</td>\n",
       "      <td>3.375</td>\n",
       "      <td>1</td>\n",
       "      <td>1</td>\n",
       "      <td>Energy</td>\n",
       "      <td>Black</td>\n",
       "      <td>8.29</td>\n",
       "      <td>0</td>\n",
       "      <td>0</td>\n",
       "      <td>0</td>\n",
       "      <td>1</td>\n",
       "      <td>ByBirth</td>\n",
       "      <td>0</td>\n",
       "      <td>0</td>\n",
       "      <td>0</td>\n",
       "    </tr>\n",
       "  </tbody>\n",
       "</table>\n",
       "<p>690 rows × 15 columns</p>\n",
       "</div>"
      ],
      "text/plain": [
       "       Age    Debt  Married  BankCustomer         Industry Ethnicity  \\\n",
       "0    30.83   0.000        1             1      Industrials     White   \n",
       "1    58.67   4.460        1             1        Materials     Black   \n",
       "2    24.50   0.500        1             1        Materials     Black   \n",
       "3    27.83   1.540        1             1      Industrials     White   \n",
       "4    20.17   5.625        1             1      Industrials     White   \n",
       "..     ...     ...      ...           ...              ...       ...   \n",
       "685  21.08  10.085        0             0        Education     Black   \n",
       "686  22.67   0.750        1             1           Energy     White   \n",
       "687  25.25  13.500        0             0       Healthcare    Latino   \n",
       "688  17.92   0.205        1             1  ConsumerStaples     White   \n",
       "689  35.00   3.375        1             1           Energy     Black   \n",
       "\n",
       "     YearsEmployed  PriorDefault  Employed  CreditScore  DriversLicense  \\\n",
       "0             1.25             1         1            1               0   \n",
       "1             3.04             1         1            6               0   \n",
       "2             1.50             1         0            0               0   \n",
       "3             3.75             1         1            5               1   \n",
       "4             1.71             1         0            0               0   \n",
       "..             ...           ...       ...          ...             ...   \n",
       "685           1.25             0         0            0               0   \n",
       "686           2.00             0         1            2               1   \n",
       "687           2.00             0         1            1               1   \n",
       "688           0.04             0         0            0               0   \n",
       "689           8.29             0         0            0               1   \n",
       "\n",
       "          Citizen  ZipCode  Income  Approved  \n",
       "0         ByBirth      202       0         1  \n",
       "1         ByBirth       43     560         1  \n",
       "2         ByBirth      280     824         1  \n",
       "3         ByBirth      100       3         1  \n",
       "4    ByOtherMeans      120       0         1  \n",
       "..            ...      ...     ...       ...  \n",
       "685       ByBirth      260       0         0  \n",
       "686       ByBirth      200     394         0  \n",
       "687       ByBirth      200       1         0  \n",
       "688       ByBirth      280     750         0  \n",
       "689       ByBirth        0       0         0  \n",
       "\n",
       "[690 rows x 15 columns]"
      ]
     },
     "execution_count": 73,
     "metadata": {},
     "output_type": "execute_result"
    }
   ],
   "source": [
    "df"
   ]
  },
  {
   "attachments": {},
   "cell_type": "markdown",
   "id": "b974ac33",
   "metadata": {},
   "source": [
    "# DriversLicense:\n",
    "\n",
    "\"we see that majority of credit card holders have DrivingLicense\" \"since DriversLicense is a bad predictor\n",
    "towards Approval we drop the attribute\""
   ]
  },
  {
   "cell_type": "code",
   "execution_count": 74,
   "id": "adc1447c",
   "metadata": {},
   "outputs": [],
   "source": [
    "df.drop(['DriversLicense'],axis=1,inplace=True)"
   ]
  },
  {
   "cell_type": "code",
   "execution_count": 75,
   "id": "9fbad2ed",
   "metadata": {},
   "outputs": [
    {
     "data": {
      "text/plain": [
       "Index(['Age', 'Debt', 'Married', 'BankCustomer', 'Industry', 'Ethnicity',\n",
       "       'YearsEmployed', 'PriorDefault', 'Employed', 'CreditScore', 'Citizen',\n",
       "       'ZipCode', 'Income', 'Approved'],\n",
       "      dtype='object')"
      ]
     },
     "execution_count": 75,
     "metadata": {},
     "output_type": "execute_result"
    }
   ],
   "source": [
    "df.columns"
   ]
  },
  {
   "cell_type": "code",
   "execution_count": 76,
   "id": "a598cf7c",
   "metadata": {},
   "outputs": [],
   "source": [
    "column_names=df.columns.tolist()\n",
    "numeric =list(set(column_names)-set(category))"
   ]
  },
  {
   "cell_type": "code",
   "execution_count": 77,
   "id": "f3ffa956",
   "metadata": {},
   "outputs": [
    {
     "data": {
      "text/html": [
       "<div>\n",
       "<style scoped>\n",
       "    .dataframe tbody tr th:only-of-type {\n",
       "        vertical-align: middle;\n",
       "    }\n",
       "\n",
       "    .dataframe tbody tr th {\n",
       "        vertical-align: top;\n",
       "    }\n",
       "\n",
       "    .dataframe thead th {\n",
       "        text-align: right;\n",
       "    }\n",
       "</style>\n",
       "<table border=\"1\" class=\"dataframe\">\n",
       "  <thead>\n",
       "    <tr style=\"text-align: right;\">\n",
       "      <th></th>\n",
       "      <th>CreditScore</th>\n",
       "      <th>Debt</th>\n",
       "      <th>Age</th>\n",
       "      <th>YearsEmployed</th>\n",
       "      <th>Income</th>\n",
       "    </tr>\n",
       "  </thead>\n",
       "  <tbody>\n",
       "    <tr>\n",
       "      <th>0</th>\n",
       "      <td>1</td>\n",
       "      <td>0.000</td>\n",
       "      <td>30.83</td>\n",
       "      <td>1.25</td>\n",
       "      <td>0</td>\n",
       "    </tr>\n",
       "    <tr>\n",
       "      <th>1</th>\n",
       "      <td>6</td>\n",
       "      <td>4.460</td>\n",
       "      <td>58.67</td>\n",
       "      <td>3.04</td>\n",
       "      <td>560</td>\n",
       "    </tr>\n",
       "    <tr>\n",
       "      <th>2</th>\n",
       "      <td>0</td>\n",
       "      <td>0.500</td>\n",
       "      <td>24.50</td>\n",
       "      <td>1.50</td>\n",
       "      <td>824</td>\n",
       "    </tr>\n",
       "    <tr>\n",
       "      <th>3</th>\n",
       "      <td>5</td>\n",
       "      <td>1.540</td>\n",
       "      <td>27.83</td>\n",
       "      <td>3.75</td>\n",
       "      <td>3</td>\n",
       "    </tr>\n",
       "    <tr>\n",
       "      <th>4</th>\n",
       "      <td>0</td>\n",
       "      <td>5.625</td>\n",
       "      <td>20.17</td>\n",
       "      <td>1.71</td>\n",
       "      <td>0</td>\n",
       "    </tr>\n",
       "    <tr>\n",
       "      <th>...</th>\n",
       "      <td>...</td>\n",
       "      <td>...</td>\n",
       "      <td>...</td>\n",
       "      <td>...</td>\n",
       "      <td>...</td>\n",
       "    </tr>\n",
       "    <tr>\n",
       "      <th>685</th>\n",
       "      <td>0</td>\n",
       "      <td>10.085</td>\n",
       "      <td>21.08</td>\n",
       "      <td>1.25</td>\n",
       "      <td>0</td>\n",
       "    </tr>\n",
       "    <tr>\n",
       "      <th>686</th>\n",
       "      <td>2</td>\n",
       "      <td>0.750</td>\n",
       "      <td>22.67</td>\n",
       "      <td>2.00</td>\n",
       "      <td>394</td>\n",
       "    </tr>\n",
       "    <tr>\n",
       "      <th>687</th>\n",
       "      <td>1</td>\n",
       "      <td>13.500</td>\n",
       "      <td>25.25</td>\n",
       "      <td>2.00</td>\n",
       "      <td>1</td>\n",
       "    </tr>\n",
       "    <tr>\n",
       "      <th>688</th>\n",
       "      <td>0</td>\n",
       "      <td>0.205</td>\n",
       "      <td>17.92</td>\n",
       "      <td>0.04</td>\n",
       "      <td>750</td>\n",
       "    </tr>\n",
       "    <tr>\n",
       "      <th>689</th>\n",
       "      <td>0</td>\n",
       "      <td>3.375</td>\n",
       "      <td>35.00</td>\n",
       "      <td>8.29</td>\n",
       "      <td>0</td>\n",
       "    </tr>\n",
       "  </tbody>\n",
       "</table>\n",
       "<p>690 rows × 5 columns</p>\n",
       "</div>"
      ],
      "text/plain": [
       "     CreditScore    Debt    Age  YearsEmployed  Income\n",
       "0              1   0.000  30.83           1.25       0\n",
       "1              6   4.460  58.67           3.04     560\n",
       "2              0   0.500  24.50           1.50     824\n",
       "3              5   1.540  27.83           3.75       3\n",
       "4              0   5.625  20.17           1.71       0\n",
       "..           ...     ...    ...            ...     ...\n",
       "685            0  10.085  21.08           1.25       0\n",
       "686            2   0.750  22.67           2.00     394\n",
       "687            1  13.500  25.25           2.00       1\n",
       "688            0   0.205  17.92           0.04     750\n",
       "689            0   3.375  35.00           8.29       0\n",
       "\n",
       "[690 rows x 5 columns]"
      ]
     },
     "execution_count": 77,
     "metadata": {},
     "output_type": "execute_result"
    }
   ],
   "source": [
    "df.loc[:,numeric]"
   ]
  },
  {
   "cell_type": "code",
   "execution_count": 78,
   "id": "b0028baa",
   "metadata": {},
   "outputs": [
    {
     "name": "stdout",
     "output_type": "stream",
     "text": [
      "CreditScore:\n"
     ]
    },
    {
     "data": {
      "image/png": "[encoded data removed]",
      "text/plain": [
       "<Figure size 720x360 with 1 Axes>"
      ]
     },
     "metadata": {
      "needs_background": "light"
     },
     "output_type": "display_data"
    },
    {
     "data": {
      "image/png": "[encoded data removed]",
      "text/plain": [
       "<Figure size 432x288 with 1 Axes>"
      ]
     },
     "metadata": {
      "needs_background": "light"
     },
     "output_type": "display_data"
    },
    {
     "name": "stdout",
     "output_type": "stream",
     "text": [
      "Debt:\n"
     ]
    },
    {
     "data": {
      "image/png": "[encoded data removed]",
      "text/plain": [
       "<Figure size 720x360 with 1 Axes>"
      ]
     },
     "metadata": {
      "needs_background": "light"
     },
     "output_type": "display_data"
    },
    {
     "data": {
      "image/png": "[encoded data removed]",
      "text/plain": [
       "<Figure size 432x288 with 1 Axes>"
      ]
     },
     "metadata": {
      "needs_background": "light"
     },
     "output_type": "display_data"
    },
    {
     "name": "stdout",
     "output_type": "stream",
     "text": [
      "Age:\n"
     ]
    },
    {
     "data": {
      "image/png": "[encoded data removed]",
      "text/plain": [
       "<Figure size 720x360 with 1 Axes>"
      ]
     },
     "metadata": {
      "needs_background": "light"
     },
     "output_type": "display_data"
    },
    {
     "data": {
      "image/png": "[encoded data removed]",
      "text/plain": [
       "<Figure size 432x288 with 1 Axes>"
      ]
     },
     "metadata": {
      "needs_background": "light"
     },
     "output_type": "display_data"
    },
    {
     "name": "stdout",
     "output_type": "stream",
     "text": [
      "YearsEmployed:\n"
     ]
    },
    {
     "data": {
      "image/png": "[encoded data removed]",
      "text/plain": [
       "<Figure size 720x360 with 1 Axes>"
      ]
     },
     "metadata": {
      "needs_background": "light"
     },
     "output_type": "display_data"
    },
    {
     "data": {
      "image/png": "[encoded data removed]",
      "text/plain": [
       "<Figure size 432x288 with 1 Axes>"
      ]
     },
     "metadata": {
      "needs_background": "light"
     },
     "output_type": "display_data"
    },
    {
     "name": "stdout",
     "output_type": "stream",
     "text": [
      "Income:\n"
     ]
    },
    {
     "data": {
      "image/png": "[encoded data removed]",
      "text/plain": [
       "<Figure size 720x360 with 1 Axes>"
      ]
     },
     "metadata": {
      "needs_background": "light"
     },
     "output_type": "display_data"
    },
    {
     "data": {
      "image/png": "[encoded data removed]",
      "text/plain": [
       "<Figure size 432x288 with 1 Axes>"
      ]
     },
     "metadata": {
      "needs_background": "light"
     },
     "output_type": "display_data"
    }
   ],
   "source": [
    "for i in numeric:\n",
    " print(i+':')\n",
    " plt.figure(figsize=(10,5))\n",
    " sns.histplot(df[i])\n",
    " plt.xlabel(i)\n",
    " plt.ylabel('counts')\n",
    " plt.title('histogram of ' + i)\n",
    " plt.show()\n",
    " df[i].plot.box(vert=False,patch_artist=True)\n",
    " plt.xlabel(i)\n",
    " plt.show()"
   ]
  },
  {
   "cell_type": "code",
   "execution_count": 79,
   "id": "538046b7",
   "metadata": {},
   "outputs": [],
   "source": [
    "iqr=iqr"
   ]
  },
  {
   "cell_type": "code",
   "execution_count": 80,
   "id": "e5ac4bbb",
   "metadata": {},
   "outputs": [
    {
     "name": "stdout",
     "output_type": "stream",
     "text": [
      "CreditScore:\n"
     ]
    },
    {
     "data": {
      "image/png": "[encoded data removed]",
      "text/plain": [
       "<Figure size 1440x720 with 1 Axes>"
      ]
     },
     "metadata": {
      "needs_background": "light"
     },
     "output_type": "display_data"
    },
    {
     "name": "stdout",
     "output_type": "stream",
     "text": [
      "Left Limit:-4.5\n",
      "Right Limit:7.5\n",
      "iqr:3.0\n"
     ]
    },
    {
     "data": {
      "image/png": "[encoded data removed]",
      "text/plain": [
       "<Figure size 1440x720 with 1 Axes>"
      ]
     },
     "metadata": {
      "needs_background": "light"
     },
     "output_type": "display_data"
    },
    {
     "name": "stdout",
     "output_type": "stream",
     "text": [
      "Debt:\n"
     ]
    },
    {
     "data": {
      "image/png": "[encoded data removed]",
      "text/plain": [
       "<Figure size 1440x720 with 1 Axes>"
      ]
     },
     "metadata": {
      "needs_background": "light"
     },
     "output_type": "display_data"
    },
    {
     "name": "stdout",
     "output_type": "stream",
     "text": [
      "Left Limit:-8.31125\n",
      "Right Limit:16.518749999999997\n",
      "iqr:6.2075\n"
     ]
    },
    {
     "data": {
      "image/png": "[encoded data removed]",
      "text/plain": [
       "<Figure size 1440x720 with 1 Axes>"
      ]
     },
     "metadata": {
      "needs_background": "light"
     },
     "output_type": "display_data"
    },
    {
     "name": "stdout",
     "output_type": "stream",
     "text": [
      "Age:\n"
     ]
    },
    {
     "data": {
      "image/png": "[encoded data removed]",
      "text/plain": [
       "<Figure size 1440x720 with 1 Axes>"
      ]
     },
     "metadata": {
      "needs_background": "light"
     },
     "output_type": "display_data"
    },
    {
     "name": "stdout",
     "output_type": "stream",
     "text": [
      "Left Limit:0.11375000000001023\n",
      "Right Limit:60.26374999999999\n",
      "iqr:15.037499999999994\n"
     ]
    },
    {
     "data": {
      "image/png": "[encoded data removed]",
      "text/plain": [
       "<Figure size 1440x720 with 1 Axes>"
      ]
     },
     "metadata": {
      "needs_background": "light"
     },
     "output_type": "display_data"
    },
    {
     "name": "stdout",
     "output_type": "stream",
     "text": [
      "YearsEmployed:\n"
     ]
    },
    {
     "data": {
      "image/png": "[encoded data removed]",
      "text/plain": [
       "<Figure size 1440x720 with 1 Axes>"
      ]
     },
     "metadata": {
      "needs_background": "light"
     },
     "output_type": "display_data"
    },
    {
     "name": "stdout",
     "output_type": "stream",
     "text": [
      "Left Limit:-3.525\n",
      "Right Limit:6.3149999999999995\n",
      "iqr:2.46\n"
     ]
    },
    {
     "data": {
      "image/png": "[encoded data removed]",
      "text/plain": [
       "<Figure size 1440x720 with 1 Axes>"
      ]
     },
     "metadata": {
      "needs_background": "light"
     },
     "output_type": "display_data"
    },
    {
     "name": "stdout",
     "output_type": "stream",
     "text": [
      "Income:\n"
     ]
    },
    {
     "data": {
      "image/png": "[encoded data removed]",
      "text/plain": [
       "<Figure size 1440x720 with 1 Axes>"
      ]
     },
     "metadata": {
      "needs_background": "light"
     },
     "output_type": "display_data"
    },
    {
     "name": "stdout",
     "output_type": "stream",
     "text": [
      "Left Limit:-593.25\n",
      "Right Limit:988.75\n",
      "iqr:395.5\n"
     ]
    },
    {
     "data": {
      "image/png": "[encoded data removed]",
      "text/plain": [
       "<Figure size 1440x720 with 1 Axes>"
      ]
     },
     "metadata": {
      "needs_background": "light"
     },
     "output_type": "display_data"
    }
   ],
   "source": [
    "#The operations involved are outlier detection, setting outliers to NaN (Not a Number), \n",
    "# and imputing these missing values using a K-Nearest Neighbors (KNN) Imputer.\n",
    "from sklearn.impute import KNNImputer\n",
    "import pandas as pd\n",
    "import matplotlib.pyplot as plt\n",
    "import numpy as np\n",
    "\n",
    "imputer = KNNImputer(n_neighbors=10)\n",
    "\n",
    "for i in numeric:\n",
    " print(i+\":\")\n",
    " plt.figure(figsize=(20,10))\n",
    " df[i].plot.box(vert=False,patch_artist=True)\n",
    " plt.xlabel(i)\n",
    " plt.show()\n",
    "\n",
    " iqr = df[i].describe()['75%'] - df[i].describe()['25%']\n",
    " right_lim = df[i].quantile(0.75) + 1.5*iqr\n",
    " left_lim = df[i].quantile(0.25) - 1.5*iqr\n",
    " print('Left Limit:{}'.format(left_lim))\n",
    " print('Right Limit:{}'.format(right_lim))\n",
    " print('iqr:{}'.format(iqr))\n",
    "\n",
    " # Set outliers to NaN\n",
    " df.loc[(df[i] < left_lim) | (df[i] > right_lim), i] = np.nan\n",
    "\n",
    " # Perform KNN imputation\n",
    " df[[i]] = imputer.fit_transform(df[[i]])\n",
    "\n",
    " plt.figure(figsize=(20,10))\n",
    " df[i].plot.box(vert=False,patch_artist=True)\n",
    " plt.xlabel(i)\n",
    " plt.show()\n",
    "\n",
    " plt.show()"
   ]
  },
  {
   "cell_type": "code",
   "execution_count": 81,
   "id": "4a2dd418",
   "metadata": {},
   "outputs": [
    {
     "name": "stdout",
     "output_type": "stream",
     "text": [
      "CreditScore:\n"
     ]
    },
    {
     "data": {
      "image/png": "[encoded data removed]",
      "text/plain": [
       "<Figure size 720x360 with 1 Axes>"
      ]
     },
     "metadata": {
      "needs_background": "light"
     },
     "output_type": "display_data"
    },
    {
     "data": {
      "image/png": "[encoded data removed]",
      "text/plain": [
       "<Figure size 432x288 with 1 Axes>"
      ]
     },
     "metadata": {
      "needs_background": "light"
     },
     "output_type": "display_data"
    },
    {
     "name": "stdout",
     "output_type": "stream",
     "text": [
      "Debt:\n"
     ]
    },
    {
     "data": {
      "image/png": "[encoded data removed]",
      "text/plain": [
       "<Figure size 720x360 with 1 Axes>"
      ]
     },
     "metadata": {
      "needs_background": "light"
     },
     "output_type": "display_data"
    },
    {
     "data": {
      "image/png": "[encoded data removed]",
      "text/plain": [
       "<Figure size 432x288 with 1 Axes>"
      ]
     },
     "metadata": {
      "needs_background": "light"
     },
     "output_type": "display_data"
    },
    {
     "name": "stdout",
     "output_type": "stream",
     "text": [
      "Age:\n"
     ]
    },
    {
     "data": {
      "image/png": "[encoded data removed]",
      "text/plain": [
       "<Figure size 720x360 with 1 Axes>"
      ]
     },
     "metadata": {
      "needs_background": "light"
     },
     "output_type": "display_data"
    },
    {
     "data": {
      "image/png": "[encoded data removed]",
      "text/plain": [
       "<Figure size 432x288 with 1 Axes>"
      ]
     },
     "metadata": {
      "needs_background": "light"
     },
     "output_type": "display_data"
    },
    {
     "name": "stdout",
     "output_type": "stream",
     "text": [
      "YearsEmployed:\n"
     ]
    },
    {
     "data": {
      "image/png": "[encoded data removed]",
      "text/plain": [
       "<Figure size 720x360 with 1 Axes>"
      ]
     },
     "metadata": {
      "needs_background": "light"
     },
     "output_type": "display_data"
    },
    {
     "data": {
      "image/png": "[encoded data removed]",
      "text/plain": [
       "<Figure size 432x288 with 1 Axes>"
      ]
     },
     "metadata": {
      "needs_background": "light"
     },
     "output_type": "display_data"
    },
    {
     "name": "stdout",
     "output_type": "stream",
     "text": [
      "Income:\n"
     ]
    },
    {
     "data": {
      "image/png": "[encoded data removed]",
      "text/plain": [
       "<Figure size 720x360 with 1 Axes>"
      ]
     },
     "metadata": {
      "needs_background": "light"
     },
     "output_type": "display_data"
    },
    {
     "data": {
      "image/png": "[encoded data removed]",
      "text/plain": [
       "<Figure size 432x288 with 1 Axes>"
      ]
     },
     "metadata": {
      "needs_background": "light"
     },
     "output_type": "display_data"
    }
   ],
   "source": [
    "for i in numeric:\n",
    " print(i+\":\")\n",
    " plt.figure(figsize=(10,5))\n",
    " sns.histplot(df[i])\n",
    " plt.xlabel(i)\n",
    " plt.ylabel('counts')\n",
    " plt.title('histogram of '+i)\n",
    " plt.show()\n",
    " df[i].plot.box(vert=False,patch_artist=True)\n",
    " plt.xlabel(i)\n",
    " plt.show()"
   ]
  },
  {
   "cell_type": "code",
   "execution_count": 82,
   "id": "a10c4478",
   "metadata": {},
   "outputs": [
    {
     "name": "stdout",
     "output_type": "stream",
     "text": [
      "CreditScore:\n"
     ]
    },
    {
     "data": {
      "image/png": "[encoded data removed]",
      "text/plain": [
       "<Figure size 432x288 with 1 Axes>"
      ]
     },
     "metadata": {
      "needs_background": "light"
     },
     "output_type": "display_data"
    },
    {
     "data": {
      "image/png": "[encoded data removed]",
      "text/plain": [
       "<Figure size 432x288 with 1 Axes>"
      ]
     },
     "metadata": {
      "needs_background": "light"
     },
     "output_type": "display_data"
    },
    {
     "name": "stdout",
     "output_type": "stream",
     "text": [
      "Debt:\n"
     ]
    },
    {
     "data": {
      "image/png": "[encoded data removed]",
      "text/plain": [
       "<Figure size 432x288 with 1 Axes>"
      ]
     },
     "metadata": {
      "needs_background": "light"
     },
     "output_type": "display_data"
    },
    {
     "data": {
      "image/png": "[encoded data removed]",
      "text/plain": [
       "<Figure size 432x288 with 1 Axes>"
      ]
     },
     "metadata": {
      "needs_background": "light"
     },
     "output_type": "display_data"
    },
    {
     "name": "stdout",
     "output_type": "stream",
     "text": [
      "Age:\n"
     ]
    },
    {
     "data": {
      "image/png": "[encoded data removed]",
      "text/plain": [
       "<Figure size 432x288 with 1 Axes>"
      ]
     },
     "metadata": {
      "needs_background": "light"
     },
     "output_type": "display_data"
    },
    {
     "data": {
      "image/png": "[encoded data removed]",
      "text/plain": [
       "<Figure size 432x288 with 1 Axes>"
      ]
     },
     "metadata": {
      "needs_background": "light"
     },
     "output_type": "display_data"
    },
    {
     "name": "stdout",
     "output_type": "stream",
     "text": [
      "YearsEmployed:\n"
     ]
    },
    {
     "data": {
      "image/png": "[encoded data removed]",
      "text/plain": [
       "<Figure size 432x288 with 1 Axes>"
      ]
     },
     "metadata": {
      "needs_background": "light"
     },
     "output_type": "display_data"
    },
    {
     "data": {
      "image/png": "[encoded data removed]",
      "text/plain": [
       "<Figure size 432x288 with 1 Axes>"
      ]
     },
     "metadata": {
      "needs_background": "light"
     },
     "output_type": "display_data"
    },
    {
     "name": "stdout",
     "output_type": "stream",
     "text": [
      "Income:\n"
     ]
    },
    {
     "data": {
      "image/png": "[encoded data removed]",
      "text/plain": [
       "<Figure size 432x288 with 1 Axes>"
      ]
     },
     "metadata": {
      "needs_background": "light"
     },
     "output_type": "display_data"
    },
    {
     "data": {
      "image/png": "[encoded data removed]",
      "text/plain": [
       "<Figure size 432x288 with 1 Axes>"
      ]
     },
     "metadata": {
      "needs_background": "light"
     },
     "output_type": "display_data"
    }
   ],
   "source": [
    "for i in numeric:\n",
    " print(i+\":\")\n",
    " sns.histplot(x=df[i],hue=df.Approved)\n",
    " plt.xlabel(i)\n",
    " plt.ylabel('counts')\n",
    " plt.title('histogram of '+ i)\n",
    " plt.show()\n",
    " sns.boxplot(y=df[i],x=df.Approved)\n",
    " plt.show()"
   ]
  },
  {
   "attachments": {},
   "cell_type": "markdown",
   "id": "a8b418e1",
   "metadata": {},
   "source": [
    "# Statistical Testing using Anova:\n"
   ]
  },
  {
   "cell_type": "code",
   "execution_count": 83,
   "id": "40e66ba7",
   "metadata": {},
   "outputs": [],
   "source": [
    "from statsmodels.stats.multicomp import pairwise_tukeyhsd\n",
    "from statsmodels.formula.api import ols\n",
    "import statsmodels.api as smf"
   ]
  },
  {
   "cell_type": "code",
   "execution_count": 84,
   "id": "e8b698a2",
   "metadata": {},
   "outputs": [
    {
     "name": "stdout",
     "output_type": "stream",
     "text": [
      "--------------------------------------------------------------------------------\n",
      "CreditScore:\n",
      "\n",
      "ANOVA:\n",
      "\n",
      "             df      sum_sq     mean_sq           F        PR(>F)\n",
      "Approved    1.0   332.18887  332.188870  127.542552  2.987691e-27\n",
      "Residual  688.0  1791.91915    2.604534         NaN           NaN \n",
      "\n",
      "Pvalue=2.9876909148266348e-27\n",
      "\n",
      "TUKEY:\n",
      "\n",
      "\u001b[31m'CreditScore' is a 'good Predictor'\n",
      "\n",
      "Avg of this feature is not same for both card approved group and not approved group\n",
      "we need to perform Tuckey as atleast one category is different\n",
      "\n",
      "\u001b[32m'CreditScore' is a 'good Predictor'\n",
      "\n",
      "Multiple Comparison of Means - Tukey HSD, FWER=0.05\n",
      "=================================================\n",
      "group1 group2 meandiff p-adj lower  upper  reject\n",
      "-------------------------------------------------\n",
      "     0      1   1.3962   0.0 1.1535 1.6389   True\n",
      "------------------------------------------------- \n",
      "\n",
      "--------------------------------------------------------------------------------\n",
      "Debt:\n",
      "\n",
      "ANOVA:\n",
      "\n",
      "             df        sum_sq     mean_sq          F        PR(>F)\n",
      "Approved    1.0    442.364741  442.364741  26.463191  3.507147e-07\n",
      "Residual  688.0  11500.765021   16.716228        NaN           NaN \n",
      "\n",
      "Pvalue=3.507146573718491e-07\n",
      "\n",
      "TUKEY:\n",
      "\n",
      "\u001b[31m'Debt' is a 'good Predictor'\n",
      "\n",
      "Avg of this feature is not same for both card approved group and not approved group\n",
      "we need to perform Tuckey as atleast one category is different\n",
      "\n",
      "\u001b[32m'Debt' is a 'good Predictor'\n",
      "\n",
      "Multiple Comparison of Means - Tukey HSD, FWER=0.05\n",
      "=================================================\n",
      "group1 group2 meandiff p-adj lower  upper  reject\n",
      "-------------------------------------------------\n",
      "     0      1   1.6112   0.0 0.9962 2.2261   True\n",
      "------------------------------------------------- \n",
      "\n",
      "--------------------------------------------------------------------------------\n",
      "Age:\n",
      "\n",
      "ANOVA:\n",
      "\n",
      "             df        sum_sq      mean_sq          F    PR(>F)\n",
      "Approved    1.0   1859.546113  1859.546113  18.237908  0.000022\n",
      "Residual  688.0  70148.820753   101.960495        NaN       NaN \n",
      "\n",
      "Pvalue=2.223816219230862e-05\n",
      "\n",
      "TUKEY:\n",
      "\n",
      "\u001b[31m'Age' is a 'good Predictor'\n",
      "\n",
      "Avg of this feature is not same for both card approved group and not approved group\n",
      "we need to perform Tuckey as atleast one category is different\n",
      "\n",
      "\u001b[32m'Age' is a 'good Predictor'\n",
      "\n",
      "Multiple Comparison of Means - Tukey HSD, FWER=0.05\n",
      "=================================================\n",
      "group1 group2 meandiff p-adj lower  upper  reject\n",
      "-------------------------------------------------\n",
      "     0      1   3.3034   0.0 1.7846 4.8221   True\n",
      "------------------------------------------------- \n",
      "\n",
      "--------------------------------------------------------------------------------\n",
      "YearsEmployed:\n",
      "\n",
      "ANOVA:\n",
      "\n",
      "             df       sum_sq     mean_sq         F        PR(>F)\n",
      "Approved    1.0   155.358883  155.358883  79.07143  5.223804e-18\n",
      "Residual  688.0  1351.776632    1.964792       NaN           NaN \n",
      "\n",
      "Pvalue=5.223803895310524e-18\n",
      "\n",
      "TUKEY:\n",
      "\n",
      "\u001b[31m'YearsEmployed' is a 'good Predictor'\n",
      "\n",
      "Avg of this feature is not same for both card approved group and not approved group\n",
      "we need to perform Tuckey as atleast one category is different\n",
      "\n",
      "\u001b[32m'YearsEmployed' is a 'good Predictor'\n",
      "\n",
      "Multiple Comparison of Means - Tukey HSD, FWER=0.05\n",
      "================================================\n",
      "group1 group2 meandiff p-adj lower upper  reject\n",
      "------------------------------------------------\n",
      "     0      1   0.9548   0.0 0.744 1.1657   True\n",
      "------------------------------------------------ \n",
      "\n",
      "--------------------------------------------------------------------------------\n",
      "Income:\n",
      "\n",
      "ANOVA:\n",
      "\n",
      "             df        sum_sq       mean_sq          F        PR(>F)\n",
      "Approved    1.0  1.360775e+06  1.360775e+06  42.702339  1.240838e-10\n",
      "Residual  688.0  2.192416e+07  3.186651e+04        NaN           NaN \n",
      "\n",
      "Pvalue=1.2408375084928808e-10\n",
      "\n",
      "TUKEY:\n",
      "\n",
      "\u001b[31m'Income' is a 'good Predictor'\n",
      "\n",
      "Avg of this feature is not same for both card approved group and not approved group\n",
      "we need to perform Tuckey as atleast one category is different\n",
      "\n",
      "\u001b[32m'Income' is a 'good Predictor'\n",
      "\n",
      "Multiple Comparison of Means - Tukey HSD, FWER=0.05 \n",
      "====================================================\n",
      "group1 group2 meandiff p-adj  lower   upper   reject\n",
      "----------------------------------------------------\n",
      "     0      1  89.3612   0.0 62.5117 116.2107   True\n",
      "---------------------------------------------------- \n",
      "\n"
     ]
    }
   ],
   "source": [
    "for i in numeric:\n",
    " print(\"--------------------------------------------------------------------------------\")\n",
    " print(i+\":\\n\")\n",
    " print('ANOVA:\\n')\n",
    " mod=ols(i+'~Approved',data=df).fit()\n",
    " aov_table=smf.stats.anova_lm(mod,type = 2)\n",
    " print(aov_table,'\\n')\n",
    " print('Pvalue={}\\n'.format(aov_table['PR(>F)'][0]))\n",
    " p=aov_table['PR(>F)'][0]\n",
    " if p>0.05:\n",
    "     print(Fore.RED +\"'{}' is a 'bad Predictor'\\n\".format(i))\n",
    "     print('Avg of this feature is same for both card approved group and not approved group')\n",
    "     print(\"p_val = {}\\n\".format(p))\n",
    " else:\n",
    "     print('TUKEY:\\n')\n",
    "     print(Fore.RED +\"'{}' is a 'good Predictor'\\n\".format(i))\n",
    "     print('Avg of this feature is not same for both card approved group and not approved group')\n",
    "     print('we need to perform Tuckey as atleast one category is different\\n')\n",
    "     print(Fore.GREEN +\"'{}' is a 'good Predictor'\\n\".format(i))\n",
    "     tukey=pairwise_tukeyhsd(df[i],df.Approved,alpha=0.05)\n",
    "     print(tukey,'\\n')"
   ]
  },
  {
   "cell_type": "code",
   "execution_count": 85,
   "id": "8aaf6a2f",
   "metadata": {},
   "outputs": [
    {
     "name": "stdout",
     "output_type": "stream",
     "text": [
      "Categorical variables:\n",
      "['Industry', 'Ethnicity', 'Citizen']\n",
      "No. of. categorical features:  3\n"
     ]
    }
   ],
   "source": [
    "from sklearn.preprocessing import OneHotEncoder\n",
    "import pickle\n",
    "s = (df.dtypes == 'object')\n",
    "object_cols = list(s[s].index)\n",
    "print(\"Categorical variables:\")\n",
    "print(object_cols)\n",
    "print('No. of. categorical features: ',len(object_cols))\n",
    "\n",
    "OH_encoder = OneHotEncoder(handle_unknown='ignore', sparse_output=False)\n",
    "OH_cols = pd.DataFrame(OH_encoder.fit_transform(df[object_cols]))\n",
    "OH_cols.index = df.index\n",
    "OH_cols.columns = OH_encoder.get_feature_names_out()\n",
    "df_final = df.drop(object_cols, axis=1)\n",
    "df_final = pd.concat([df_final, OH_cols], axis=1)\n",
    "\n",
    "# Save the OneHotEncoder to a pickle file\n",
    "with open(\"OH_encoder.pkl\", \"wb\") as f:\n",
    "    pickle.dump(OH_encoder, f)"
   ]
  },
  {
   "cell_type": "code",
   "execution_count": 86,
   "id": "5bc5c3a5",
   "metadata": {},
   "outputs": [
    {
     "data": {
      "text/html": [
       "<div>\n",
       "<style scoped>\n",
       "    .dataframe tbody tr th:only-of-type {\n",
       "        vertical-align: middle;\n",
       "    }\n",
       "\n",
       "    .dataframe tbody tr th {\n",
       "        vertical-align: top;\n",
       "    }\n",
       "\n",
       "    .dataframe thead th {\n",
       "        text-align: right;\n",
       "    }\n",
       "</style>\n",
       "<table border=\"1\" class=\"dataframe\">\n",
       "  <thead>\n",
       "    <tr style=\"text-align: right;\">\n",
       "      <th></th>\n",
       "      <th>Age</th>\n",
       "      <th>Debt</th>\n",
       "      <th>Married</th>\n",
       "      <th>BankCustomer</th>\n",
       "      <th>YearsEmployed</th>\n",
       "      <th>PriorDefault</th>\n",
       "      <th>Employed</th>\n",
       "      <th>CreditScore</th>\n",
       "      <th>ZipCode</th>\n",
       "      <th>Income</th>\n",
       "      <th>...</th>\n",
       "      <th>Industry_Transport</th>\n",
       "      <th>Industry_Utilities</th>\n",
       "      <th>Ethnicity_Asian</th>\n",
       "      <th>Ethnicity_Black</th>\n",
       "      <th>Ethnicity_Latino</th>\n",
       "      <th>Ethnicity_Other</th>\n",
       "      <th>Ethnicity_White</th>\n",
       "      <th>Citizen_ByBirth</th>\n",
       "      <th>Citizen_ByOtherMeans</th>\n",
       "      <th>Citizen_Temporary</th>\n",
       "    </tr>\n",
       "  </thead>\n",
       "  <tbody>\n",
       "    <tr>\n",
       "      <th>0</th>\n",
       "      <td>30.83</td>\n",
       "      <td>0.000</td>\n",
       "      <td>1</td>\n",
       "      <td>1</td>\n",
       "      <td>1.25</td>\n",
       "      <td>1</td>\n",
       "      <td>1</td>\n",
       "      <td>1.0</td>\n",
       "      <td>202</td>\n",
       "      <td>0.0</td>\n",
       "      <td>...</td>\n",
       "      <td>0.0</td>\n",
       "      <td>0.0</td>\n",
       "      <td>0.0</td>\n",
       "      <td>0.0</td>\n",
       "      <td>0.0</td>\n",
       "      <td>0.0</td>\n",
       "      <td>1.0</td>\n",
       "      <td>1.0</td>\n",
       "      <td>0.0</td>\n",
       "      <td>0.0</td>\n",
       "    </tr>\n",
       "    <tr>\n",
       "      <th>1</th>\n",
       "      <td>58.67</td>\n",
       "      <td>4.460</td>\n",
       "      <td>1</td>\n",
       "      <td>1</td>\n",
       "      <td>3.04</td>\n",
       "      <td>1</td>\n",
       "      <td>1</td>\n",
       "      <td>6.0</td>\n",
       "      <td>43</td>\n",
       "      <td>560.0</td>\n",
       "      <td>...</td>\n",
       "      <td>0.0</td>\n",
       "      <td>0.0</td>\n",
       "      <td>0.0</td>\n",
       "      <td>1.0</td>\n",
       "      <td>0.0</td>\n",
       "      <td>0.0</td>\n",
       "      <td>0.0</td>\n",
       "      <td>1.0</td>\n",
       "      <td>0.0</td>\n",
       "      <td>0.0</td>\n",
       "    </tr>\n",
       "    <tr>\n",
       "      <th>2</th>\n",
       "      <td>24.50</td>\n",
       "      <td>0.500</td>\n",
       "      <td>1</td>\n",
       "      <td>1</td>\n",
       "      <td>1.50</td>\n",
       "      <td>1</td>\n",
       "      <td>0</td>\n",
       "      <td>0.0</td>\n",
       "      <td>280</td>\n",
       "      <td>824.0</td>\n",
       "      <td>...</td>\n",
       "      <td>0.0</td>\n",
       "      <td>0.0</td>\n",
       "      <td>0.0</td>\n",
       "      <td>1.0</td>\n",
       "      <td>0.0</td>\n",
       "      <td>0.0</td>\n",
       "      <td>0.0</td>\n",
       "      <td>1.0</td>\n",
       "      <td>0.0</td>\n",
       "      <td>0.0</td>\n",
       "    </tr>\n",
       "    <tr>\n",
       "      <th>3</th>\n",
       "      <td>27.83</td>\n",
       "      <td>1.540</td>\n",
       "      <td>1</td>\n",
       "      <td>1</td>\n",
       "      <td>3.75</td>\n",
       "      <td>1</td>\n",
       "      <td>1</td>\n",
       "      <td>5.0</td>\n",
       "      <td>100</td>\n",
       "      <td>3.0</td>\n",
       "      <td>...</td>\n",
       "      <td>0.0</td>\n",
       "      <td>0.0</td>\n",
       "      <td>0.0</td>\n",
       "      <td>0.0</td>\n",
       "      <td>0.0</td>\n",
       "      <td>0.0</td>\n",
       "      <td>1.0</td>\n",
       "      <td>1.0</td>\n",
       "      <td>0.0</td>\n",
       "      <td>0.0</td>\n",
       "    </tr>\n",
       "    <tr>\n",
       "      <th>4</th>\n",
       "      <td>20.17</td>\n",
       "      <td>5.625</td>\n",
       "      <td>1</td>\n",
       "      <td>1</td>\n",
       "      <td>1.71</td>\n",
       "      <td>1</td>\n",
       "      <td>0</td>\n",
       "      <td>0.0</td>\n",
       "      <td>120</td>\n",
       "      <td>0.0</td>\n",
       "      <td>...</td>\n",
       "      <td>0.0</td>\n",
       "      <td>0.0</td>\n",
       "      <td>0.0</td>\n",
       "      <td>0.0</td>\n",
       "      <td>0.0</td>\n",
       "      <td>0.0</td>\n",
       "      <td>1.0</td>\n",
       "      <td>0.0</td>\n",
       "      <td>1.0</td>\n",
       "      <td>0.0</td>\n",
       "    </tr>\n",
       "  </tbody>\n",
       "</table>\n",
       "<p>5 rows × 33 columns</p>\n",
       "</div>"
      ],
      "text/plain": [
       "     Age   Debt  Married  BankCustomer  YearsEmployed  PriorDefault  Employed  \\\n",
       "0  30.83  0.000        1             1           1.25             1         1   \n",
       "1  58.67  4.460        1             1           3.04             1         1   \n",
       "2  24.50  0.500        1             1           1.50             1         0   \n",
       "3  27.83  1.540        1             1           3.75             1         1   \n",
       "4  20.17  5.625        1             1           1.71             1         0   \n",
       "\n",
       "   CreditScore  ZipCode  Income  ...  Industry_Transport  Industry_Utilities  \\\n",
       "0          1.0      202     0.0  ...                 0.0                 0.0   \n",
       "1          6.0       43   560.0  ...                 0.0                 0.0   \n",
       "2          0.0      280   824.0  ...                 0.0                 0.0   \n",
       "3          5.0      100     3.0  ...                 0.0                 0.0   \n",
       "4          0.0      120     0.0  ...                 0.0                 0.0   \n",
       "\n",
       "   Ethnicity_Asian  Ethnicity_Black  Ethnicity_Latino  Ethnicity_Other  \\\n",
       "0              0.0              0.0               0.0              0.0   \n",
       "1              0.0              1.0               0.0              0.0   \n",
       "2              0.0              1.0               0.0              0.0   \n",
       "3              0.0              0.0               0.0              0.0   \n",
       "4              0.0              0.0               0.0              0.0   \n",
       "\n",
       "   Ethnicity_White  Citizen_ByBirth  Citizen_ByOtherMeans  Citizen_Temporary  \n",
       "0              1.0              1.0                   0.0                0.0  \n",
       "1              0.0              1.0                   0.0                0.0  \n",
       "2              0.0              1.0                   0.0                0.0  \n",
       "3              1.0              1.0                   0.0                0.0  \n",
       "4              1.0              0.0                   1.0                0.0  \n",
       "\n",
       "[5 rows x 33 columns]"
      ]
     },
     "execution_count": 86,
     "metadata": {},
     "output_type": "execute_result"
    }
   ],
   "source": [
    "df_final.head()"
   ]
  },
  {
   "attachments": {},
   "cell_type": "markdown",
   "id": "b9a9de1b",
   "metadata": {},
   "source": [
    "# Variance inflation factor (VIF) Calculation"
   ]
  },
  {
   "cell_type": "code",
   "execution_count": 87,
   "id": "192c7a04",
   "metadata": {},
   "outputs": [],
   "source": [
    "from statsmodels.stats.outliers_influence import variance_inflation_factor"
   ]
  },
  {
   "cell_type": "code",
   "execution_count": 88,
   "id": "3f11610f",
   "metadata": {},
   "outputs": [],
   "source": [
    "x = df_final[['Age','Debt','YearsEmployed','CreditScore','Income']]"
   ]
  },
  {
   "cell_type": "code",
   "execution_count": 89,
   "id": "74e0fb95",
   "metadata": {},
   "outputs": [],
   "source": [
    "vif_data=pd.DataFrame()"
   ]
  },
  {
   "cell_type": "code",
   "execution_count": 90,
   "id": "c7f41888",
   "metadata": {},
   "outputs": [],
   "source": [
    "vif_data['features']=x.columns"
   ]
  },
  {
   "cell_type": "code",
   "execution_count": 91,
   "id": "74a864e1",
   "metadata": {},
   "outputs": [],
   "source": [
    "vif_data['VIF']=[variance_inflation_factor(x.values,i) for i in range (len(x.columns))]"
   ]
  },
  {
   "cell_type": "code",
   "execution_count": 92,
   "id": "ba6540d5",
   "metadata": {},
   "outputs": [
    {
     "data": {
      "text/html": [
       "<div>\n",
       "<style scoped>\n",
       "    .dataframe tbody tr th:only-of-type {\n",
       "        vertical-align: middle;\n",
       "    }\n",
       "\n",
       "    .dataframe tbody tr th {\n",
       "        vertical-align: top;\n",
       "    }\n",
       "\n",
       "    .dataframe thead th {\n",
       "        text-align: right;\n",
       "    }\n",
       "</style>\n",
       "<table border=\"1\" class=\"dataframe\">\n",
       "  <thead>\n",
       "    <tr style=\"text-align: right;\">\n",
       "      <th></th>\n",
       "      <th>features</th>\n",
       "      <th>VIF</th>\n",
       "    </tr>\n",
       "  </thead>\n",
       "  <tbody>\n",
       "    <tr>\n",
       "      <th>0</th>\n",
       "      <td>Age</td>\n",
       "      <td>2.678080</td>\n",
       "    </tr>\n",
       "    <tr>\n",
       "      <th>1</th>\n",
       "      <td>Debt</td>\n",
       "      <td>2.024592</td>\n",
       "    </tr>\n",
       "    <tr>\n",
       "      <th>2</th>\n",
       "      <td>YearsEmployed</td>\n",
       "      <td>2.080424</td>\n",
       "    </tr>\n",
       "    <tr>\n",
       "      <th>3</th>\n",
       "      <td>CreditScore</td>\n",
       "      <td>1.485264</td>\n",
       "    </tr>\n",
       "    <tr>\n",
       "      <th>4</th>\n",
       "      <td>Income</td>\n",
       "      <td>1.339038</td>\n",
       "    </tr>\n",
       "  </tbody>\n",
       "</table>\n",
       "</div>"
      ],
      "text/plain": [
       "        features       VIF\n",
       "0            Age  2.678080\n",
       "1           Debt  2.024592\n",
       "2  YearsEmployed  2.080424\n",
       "3    CreditScore  1.485264\n",
       "4         Income  1.339038"
      ]
     },
     "execution_count": 92,
     "metadata": {},
     "output_type": "execute_result"
    }
   ],
   "source": [
    "vif_data"
   ]
  },
  {
   "cell_type": "code",
   "execution_count": 93,
   "id": "9e221bfa",
   "metadata": {},
   "outputs": [
    {
     "data": {
      "text/html": [
       "<div>\n",
       "<style scoped>\n",
       "    .dataframe tbody tr th:only-of-type {\n",
       "        vertical-align: middle;\n",
       "    }\n",
       "\n",
       "    .dataframe tbody tr th {\n",
       "        vertical-align: top;\n",
       "    }\n",
       "\n",
       "    .dataframe thead th {\n",
       "        text-align: right;\n",
       "    }\n",
       "</style>\n",
       "<table border=\"1\" class=\"dataframe\">\n",
       "  <thead>\n",
       "    <tr style=\"text-align: right;\">\n",
       "      <th></th>\n",
       "      <th>Age</th>\n",
       "      <th>Debt</th>\n",
       "      <th>Married</th>\n",
       "      <th>BankCustomer</th>\n",
       "      <th>YearsEmployed</th>\n",
       "      <th>PriorDefault</th>\n",
       "      <th>Employed</th>\n",
       "      <th>CreditScore</th>\n",
       "      <th>ZipCode</th>\n",
       "      <th>Income</th>\n",
       "      <th>...</th>\n",
       "      <th>Industry_Transport</th>\n",
       "      <th>Industry_Utilities</th>\n",
       "      <th>Ethnicity_Asian</th>\n",
       "      <th>Ethnicity_Black</th>\n",
       "      <th>Ethnicity_Latino</th>\n",
       "      <th>Ethnicity_Other</th>\n",
       "      <th>Ethnicity_White</th>\n",
       "      <th>Citizen_ByBirth</th>\n",
       "      <th>Citizen_ByOtherMeans</th>\n",
       "      <th>Citizen_Temporary</th>\n",
       "    </tr>\n",
       "  </thead>\n",
       "  <tbody>\n",
       "    <tr>\n",
       "      <th>0</th>\n",
       "      <td>30.83</td>\n",
       "      <td>0.000</td>\n",
       "      <td>1</td>\n",
       "      <td>1</td>\n",
       "      <td>1.250000</td>\n",
       "      <td>1</td>\n",
       "      <td>1</td>\n",
       "      <td>1.0</td>\n",
       "      <td>202</td>\n",
       "      <td>0.0</td>\n",
       "      <td>...</td>\n",
       "      <td>0.0</td>\n",
       "      <td>0.0</td>\n",
       "      <td>0.0</td>\n",
       "      <td>0.0</td>\n",
       "      <td>0.0</td>\n",
       "      <td>0.0</td>\n",
       "      <td>1.0</td>\n",
       "      <td>1.0</td>\n",
       "      <td>0.0</td>\n",
       "      <td>0.0</td>\n",
       "    </tr>\n",
       "    <tr>\n",
       "      <th>1</th>\n",
       "      <td>58.67</td>\n",
       "      <td>4.460</td>\n",
       "      <td>1</td>\n",
       "      <td>1</td>\n",
       "      <td>3.040000</td>\n",
       "      <td>1</td>\n",
       "      <td>1</td>\n",
       "      <td>6.0</td>\n",
       "      <td>43</td>\n",
       "      <td>560.0</td>\n",
       "      <td>...</td>\n",
       "      <td>0.0</td>\n",
       "      <td>0.0</td>\n",
       "      <td>0.0</td>\n",
       "      <td>1.0</td>\n",
       "      <td>0.0</td>\n",
       "      <td>0.0</td>\n",
       "      <td>0.0</td>\n",
       "      <td>1.0</td>\n",
       "      <td>0.0</td>\n",
       "      <td>0.0</td>\n",
       "    </tr>\n",
       "    <tr>\n",
       "      <th>2</th>\n",
       "      <td>24.50</td>\n",
       "      <td>0.500</td>\n",
       "      <td>1</td>\n",
       "      <td>1</td>\n",
       "      <td>1.500000</td>\n",
       "      <td>1</td>\n",
       "      <td>0</td>\n",
       "      <td>0.0</td>\n",
       "      <td>280</td>\n",
       "      <td>824.0</td>\n",
       "      <td>...</td>\n",
       "      <td>0.0</td>\n",
       "      <td>0.0</td>\n",
       "      <td>0.0</td>\n",
       "      <td>1.0</td>\n",
       "      <td>0.0</td>\n",
       "      <td>0.0</td>\n",
       "      <td>0.0</td>\n",
       "      <td>1.0</td>\n",
       "      <td>0.0</td>\n",
       "      <td>0.0</td>\n",
       "    </tr>\n",
       "    <tr>\n",
       "      <th>3</th>\n",
       "      <td>27.83</td>\n",
       "      <td>1.540</td>\n",
       "      <td>1</td>\n",
       "      <td>1</td>\n",
       "      <td>3.750000</td>\n",
       "      <td>1</td>\n",
       "      <td>1</td>\n",
       "      <td>5.0</td>\n",
       "      <td>100</td>\n",
       "      <td>3.0</td>\n",
       "      <td>...</td>\n",
       "      <td>0.0</td>\n",
       "      <td>0.0</td>\n",
       "      <td>0.0</td>\n",
       "      <td>0.0</td>\n",
       "      <td>0.0</td>\n",
       "      <td>0.0</td>\n",
       "      <td>1.0</td>\n",
       "      <td>1.0</td>\n",
       "      <td>0.0</td>\n",
       "      <td>0.0</td>\n",
       "    </tr>\n",
       "    <tr>\n",
       "      <th>4</th>\n",
       "      <td>20.17</td>\n",
       "      <td>5.625</td>\n",
       "      <td>1</td>\n",
       "      <td>1</td>\n",
       "      <td>1.710000</td>\n",
       "      <td>1</td>\n",
       "      <td>0</td>\n",
       "      <td>0.0</td>\n",
       "      <td>120</td>\n",
       "      <td>0.0</td>\n",
       "      <td>...</td>\n",
       "      <td>0.0</td>\n",
       "      <td>0.0</td>\n",
       "      <td>0.0</td>\n",
       "      <td>0.0</td>\n",
       "      <td>0.0</td>\n",
       "      <td>0.0</td>\n",
       "      <td>1.0</td>\n",
       "      <td>0.0</td>\n",
       "      <td>1.0</td>\n",
       "      <td>0.0</td>\n",
       "    </tr>\n",
       "    <tr>\n",
       "      <th>...</th>\n",
       "      <td>...</td>\n",
       "      <td>...</td>\n",
       "      <td>...</td>\n",
       "      <td>...</td>\n",
       "      <td>...</td>\n",
       "      <td>...</td>\n",
       "      <td>...</td>\n",
       "      <td>...</td>\n",
       "      <td>...</td>\n",
       "      <td>...</td>\n",
       "      <td>...</td>\n",
       "      <td>...</td>\n",
       "      <td>...</td>\n",
       "      <td>...</td>\n",
       "      <td>...</td>\n",
       "      <td>...</td>\n",
       "      <td>...</td>\n",
       "      <td>...</td>\n",
       "      <td>...</td>\n",
       "      <td>...</td>\n",
       "      <td>...</td>\n",
       "    </tr>\n",
       "    <tr>\n",
       "      <th>685</th>\n",
       "      <td>21.08</td>\n",
       "      <td>10.085</td>\n",
       "      <td>0</td>\n",
       "      <td>0</td>\n",
       "      <td>1.250000</td>\n",
       "      <td>0</td>\n",
       "      <td>0</td>\n",
       "      <td>0.0</td>\n",
       "      <td>260</td>\n",
       "      <td>0.0</td>\n",
       "      <td>...</td>\n",
       "      <td>0.0</td>\n",
       "      <td>0.0</td>\n",
       "      <td>0.0</td>\n",
       "      <td>1.0</td>\n",
       "      <td>0.0</td>\n",
       "      <td>0.0</td>\n",
       "      <td>0.0</td>\n",
       "      <td>1.0</td>\n",
       "      <td>0.0</td>\n",
       "      <td>0.0</td>\n",
       "    </tr>\n",
       "    <tr>\n",
       "      <th>686</th>\n",
       "      <td>22.67</td>\n",
       "      <td>0.750</td>\n",
       "      <td>1</td>\n",
       "      <td>1</td>\n",
       "      <td>2.000000</td>\n",
       "      <td>0</td>\n",
       "      <td>1</td>\n",
       "      <td>2.0</td>\n",
       "      <td>200</td>\n",
       "      <td>394.0</td>\n",
       "      <td>...</td>\n",
       "      <td>0.0</td>\n",
       "      <td>0.0</td>\n",
       "      <td>0.0</td>\n",
       "      <td>0.0</td>\n",
       "      <td>0.0</td>\n",
       "      <td>0.0</td>\n",
       "      <td>1.0</td>\n",
       "      <td>1.0</td>\n",
       "      <td>0.0</td>\n",
       "      <td>0.0</td>\n",
       "    </tr>\n",
       "    <tr>\n",
       "      <th>687</th>\n",
       "      <td>25.25</td>\n",
       "      <td>13.500</td>\n",
       "      <td>0</td>\n",
       "      <td>0</td>\n",
       "      <td>2.000000</td>\n",
       "      <td>0</td>\n",
       "      <td>1</td>\n",
       "      <td>1.0</td>\n",
       "      <td>200</td>\n",
       "      <td>1.0</td>\n",
       "      <td>...</td>\n",
       "      <td>0.0</td>\n",
       "      <td>0.0</td>\n",
       "      <td>0.0</td>\n",
       "      <td>0.0</td>\n",
       "      <td>1.0</td>\n",
       "      <td>0.0</td>\n",
       "      <td>0.0</td>\n",
       "      <td>1.0</td>\n",
       "      <td>0.0</td>\n",
       "      <td>0.0</td>\n",
       "    </tr>\n",
       "    <tr>\n",
       "      <th>688</th>\n",
       "      <td>17.92</td>\n",
       "      <td>0.205</td>\n",
       "      <td>1</td>\n",
       "      <td>1</td>\n",
       "      <td>0.040000</td>\n",
       "      <td>0</td>\n",
       "      <td>0</td>\n",
       "      <td>0.0</td>\n",
       "      <td>280</td>\n",
       "      <td>750.0</td>\n",
       "      <td>...</td>\n",
       "      <td>0.0</td>\n",
       "      <td>0.0</td>\n",
       "      <td>0.0</td>\n",
       "      <td>0.0</td>\n",
       "      <td>0.0</td>\n",
       "      <td>0.0</td>\n",
       "      <td>1.0</td>\n",
       "      <td>1.0</td>\n",
       "      <td>0.0</td>\n",
       "      <td>0.0</td>\n",
       "    </tr>\n",
       "    <tr>\n",
       "      <th>689</th>\n",
       "      <td>35.00</td>\n",
       "      <td>3.375</td>\n",
       "      <td>1</td>\n",
       "      <td>1</td>\n",
       "      <td>1.362416</td>\n",
       "      <td>0</td>\n",
       "      <td>0</td>\n",
       "      <td>0.0</td>\n",
       "      <td>0</td>\n",
       "      <td>0.0</td>\n",
       "      <td>...</td>\n",
       "      <td>0.0</td>\n",
       "      <td>0.0</td>\n",
       "      <td>0.0</td>\n",
       "      <td>1.0</td>\n",
       "      <td>0.0</td>\n",
       "      <td>0.0</td>\n",
       "      <td>0.0</td>\n",
       "      <td>1.0</td>\n",
       "      <td>0.0</td>\n",
       "      <td>0.0</td>\n",
       "    </tr>\n",
       "  </tbody>\n",
       "</table>\n",
       "<p>690 rows × 33 columns</p>\n",
       "</div>"
      ],
      "text/plain": [
       "       Age    Debt  Married  BankCustomer  YearsEmployed  PriorDefault  \\\n",
       "0    30.83   0.000        1             1       1.250000             1   \n",
       "1    58.67   4.460        1             1       3.040000             1   \n",
       "2    24.50   0.500        1             1       1.500000             1   \n",
       "3    27.83   1.540        1             1       3.750000             1   \n",
       "4    20.17   5.625        1             1       1.710000             1   \n",
       "..     ...     ...      ...           ...            ...           ...   \n",
       "685  21.08  10.085        0             0       1.250000             0   \n",
       "686  22.67   0.750        1             1       2.000000             0   \n",
       "687  25.25  13.500        0             0       2.000000             0   \n",
       "688  17.92   0.205        1             1       0.040000             0   \n",
       "689  35.00   3.375        1             1       1.362416             0   \n",
       "\n",
       "     Employed  CreditScore  ZipCode  Income  ...  Industry_Transport  \\\n",
       "0           1          1.0      202     0.0  ...                 0.0   \n",
       "1           1          6.0       43   560.0  ...                 0.0   \n",
       "2           0          0.0      280   824.0  ...                 0.0   \n",
       "3           1          5.0      100     3.0  ...                 0.0   \n",
       "4           0          0.0      120     0.0  ...                 0.0   \n",
       "..        ...          ...      ...     ...  ...                 ...   \n",
       "685         0          0.0      260     0.0  ...                 0.0   \n",
       "686         1          2.0      200   394.0  ...                 0.0   \n",
       "687         1          1.0      200     1.0  ...                 0.0   \n",
       "688         0          0.0      280   750.0  ...                 0.0   \n",
       "689         0          0.0        0     0.0  ...                 0.0   \n",
       "\n",
       "     Industry_Utilities  Ethnicity_Asian  Ethnicity_Black  Ethnicity_Latino  \\\n",
       "0                   0.0              0.0              0.0               0.0   \n",
       "1                   0.0              0.0              1.0               0.0   \n",
       "2                   0.0              0.0              1.0               0.0   \n",
       "3                   0.0              0.0              0.0               0.0   \n",
       "4                   0.0              0.0              0.0               0.0   \n",
       "..                  ...              ...              ...               ...   \n",
       "685                 0.0              0.0              1.0               0.0   \n",
       "686                 0.0              0.0              0.0               0.0   \n",
       "687                 0.0              0.0              0.0               1.0   \n",
       "688                 0.0              0.0              0.0               0.0   \n",
       "689                 0.0              0.0              1.0               0.0   \n",
       "\n",
       "     Ethnicity_Other  Ethnicity_White  Citizen_ByBirth  Citizen_ByOtherMeans  \\\n",
       "0                0.0              1.0              1.0                   0.0   \n",
       "1                0.0              0.0              1.0                   0.0   \n",
       "2                0.0              0.0              1.0                   0.0   \n",
       "3                0.0              1.0              1.0                   0.0   \n",
       "4                0.0              1.0              0.0                   1.0   \n",
       "..               ...              ...              ...                   ...   \n",
       "685              0.0              0.0              1.0                   0.0   \n",
       "686              0.0              1.0              1.0                   0.0   \n",
       "687              0.0              0.0              1.0                   0.0   \n",
       "688              0.0              1.0              1.0                   0.0   \n",
       "689              0.0              0.0              1.0                   0.0   \n",
       "\n",
       "     Citizen_Temporary  \n",
       "0                  0.0  \n",
       "1                  0.0  \n",
       "2                  0.0  \n",
       "3                  0.0  \n",
       "4                  0.0  \n",
       "..                 ...  \n",
       "685                0.0  \n",
       "686                0.0  \n",
       "687                0.0  \n",
       "688                0.0  \n",
       "689                0.0  \n",
       "\n",
       "[690 rows x 33 columns]"
      ]
     },
     "execution_count": 93,
     "metadata": {},
     "output_type": "execute_result"
    }
   ],
   "source": [
    "df_final"
   ]
  },
  {
   "attachments": {},
   "cell_type": "markdown",
   "id": "d671dd79",
   "metadata": {},
   "source": [
    "# Creating model"
   ]
  },
  {
   "cell_type": "code",
   "execution_count": 94,
   "id": "68588075",
   "metadata": {},
   "outputs": [],
   "source": [
    "y = df_final['Approved']\n",
    "x = df_final.drop(columns=['Approved'])"
   ]
  },
  {
   "cell_type": "code",
   "execution_count": 95,
   "id": "7b587b90",
   "metadata": {},
   "outputs": [],
   "source": [
    "from sklearn.model_selection import train_test_split"
   ]
  },
  {
   "cell_type": "code",
   "execution_count": 96,
   "id": "e709c296",
   "metadata": {},
   "outputs": [],
   "source": [
    "x_train,x_test,y_train,y_test=train_test_split(x,y,test_size=0.3,random_state=123)"
   ]
  },
  {
   "cell_type": "code",
   "execution_count": 97,
   "id": "66bb0ee0",
   "metadata": {},
   "outputs": [],
   "source": [
    "from sklearn.linear_model import LogisticRegression\n",
    "from sklearn.metrics import mean_absolute_percentage_error"
   ]
  },
  {
   "cell_type": "code",
   "execution_count": 98,
   "id": "55e4a4bd",
   "metadata": {},
   "outputs": [],
   "source": [
    "model=LogisticRegression(solver='liblinear',random_state=123)"
   ]
  },
  {
   "cell_type": "code",
   "execution_count": 99,
   "id": "68ca1d0a",
   "metadata": {},
   "outputs": [],
   "source": [
    "clf = model.fit(x_train, y_train)\n",
    "# Save the model using pickle\n",
    "with open('credit_card_logistic_regression_model.pkl', 'wb') as f:\n",
    "    pickle.dump(clf, f)"
   ]
  },
  {
   "cell_type": "code",
   "execution_count": 100,
   "id": "b0c73b67",
   "metadata": {},
   "outputs": [
    {
     "data": {
      "text/plain": [
       "0.8599033816425121"
      ]
     },
     "execution_count": 100,
     "metadata": {},
     "output_type": "execute_result"
    }
   ],
   "source": [
    "clf.score(x_test,y_test)"
   ]
  },
  {
   "cell_type": "code",
   "execution_count": 101,
   "id": "33e4fa48",
   "metadata": {},
   "outputs": [
    {
     "data": {
      "text/plain": [
       "array([-1.26866571])"
      ]
     },
     "execution_count": 101,
     "metadata": {},
     "output_type": "execute_result"
    }
   ],
   "source": [
    "clf.intercept_"
   ]
  },
  {
   "cell_type": "code",
   "execution_count": 102,
   "id": "172b314c",
   "metadata": {},
   "outputs": [
    {
     "data": {
      "text/plain": [
       "array([[-4.77241404e-03, -2.04769783e-02,  2.88782081e-02,\n",
       "         5.47929512e-01,  2.59143275e-01,  3.14760882e+00,\n",
       "         8.75191135e-01,  6.62344559e-02, -3.09356990e-03,\n",
       "         2.28116243e-03, -1.40880338e-01, -1.04601482e+00,\n",
       "        -4.95584363e-01,  3.98815394e-01, -4.65527166e-02,\n",
       "        -6.96624667e-01, -9.88291022e-01,  1.12870584e-01,\n",
       "         1.43208000e+00,  7.54200354e-03, -6.11555797e-01,\n",
       "        -3.22731981e-01,  1.49667483e-01,  9.78594526e-01,\n",
       "        -3.77128662e-01, -5.95382751e-02, -3.41537281e-01,\n",
       "        -3.90165366e-02, -4.51444954e-01, -1.25421955e+00,\n",
       "        -4.95994840e-01,  4.81548683e-01]])"
      ]
     },
     "execution_count": 102,
     "metadata": {},
     "output_type": "execute_result"
    }
   ],
   "source": [
    "clf.coef_"
   ]
  },
  {
   "attachments": {},
   "cell_type": "markdown",
   "id": "64f3a76e",
   "metadata": {},
   "source": [
    "# Creating confusion matrix"
   ]
  },
  {
   "cell_type": "code",
   "execution_count": 103,
   "id": "ee31570c",
   "metadata": {},
   "outputs": [],
   "source": [
    "from sklearn import metrics"
   ]
  },
  {
   "cell_type": "code",
   "execution_count": 104,
   "id": "acce66f4",
   "metadata": {},
   "outputs": [
    {
     "name": "stdout",
     "output_type": "stream",
     "text": [
      "[[97 12]\n",
      " [17 81]]\n"
     ]
    }
   ],
   "source": [
    "cm=metrics.confusion_matrix(y_test,y_pred)\n",
    "print(cm)"
   ]
  },
  {
   "cell_type": "code",
   "execution_count": 105,
   "id": "8a9023fc",
   "metadata": {},
   "outputs": [
    {
     "name": "stdout",
     "output_type": "stream",
     "text": [
      "              precision    recall  f1-score   support\n",
      "\n",
      "           0       0.85      0.89      0.87       109\n",
      "           1       0.87      0.83      0.85        98\n",
      "\n",
      "    accuracy                           0.86       207\n",
      "   macro avg       0.86      0.86      0.86       207\n",
      "weighted avg       0.86      0.86      0.86       207\n",
      "\n"
     ]
    }
   ],
   "source": [
    "cr=metrics.classification_report(y_test,y_pred)\n",
    "print(cr)"
   ]
  },
  {
   "attachments": {},
   "cell_type": "markdown",
   "id": "fa16caf9",
   "metadata": {},
   "source": [
    "**Precision:** Precision is the number of true positives divided by the sum of true positives and false positives. It's a measure of how many of the positive predictions were actually correct. In our case, for class 0 it's 0.89 and for class 1 it's 0.87, which means that the model's predictions for both classes are fairly precise.\n",
    "\n",
    "**Recall:** Recall (also known as sensitivity or true positive rate) is the number of true positives divided by the sum of true positives and false negatives. It's a measure of how many of the actual positives were correctly identified. In our case, for class 0 it's 0.88 and for class 1 it's 0.88, which means that the model is doing a good job at catching the positive instances for both classes.\n",
    "\n",
    "**F1-Score:** The F1 score is the harmonic mean of precision and recall. An F1 score reaches its best value at 1 (perfect precision and recall) and worst at 0. In our case, for both classes it's around 0.87-0.88, which is a good score and indicates a balanced model in terms of precision and recall.\n",
    "\n",
    "**Support:** The support is the number of actual occurrences of the class in the specified dataset. In our case, for class 0 it's 109 and for class 1 it's 98, which means the dataset is slightly imbalanced, but not too much.\n",
    "\n",
    "**Accuracy:** Accuracy is the ratio of correctly predicted observations to the total observations. In our case, it's 0.88, which means the model correctly predicted 88% of all instances.\n",
    "\n",
    "**Macro avg:** The macro average (for precision, recall, F1) is the average score without considering the class imbalance. It's calculated by simply averaging the scores of all classes.\n",
    "\n",
    "**Weighted avg:** The weighted average (for precision, recall, F1) is calculated by taking the average of each metric, but giving a weight to each class proportional to its size (i.e., its support)."
   ]
  },
  {
   "attachments": {},
   "cell_type": "markdown",
   "id": "bbb36bd9",
   "metadata": {},
   "source": [
    "# ROC curve"
   ]
  },
  {
   "cell_type": "code",
   "execution_count": 106,
   "id": "9dc6c7e8",
   "metadata": {},
   "outputs": [
    {
     "name": "stdout",
     "output_type": "stream",
     "text": [
      "[[0.97182548 0.02817452]\n",
      " [0.05682874 0.94317126]\n",
      " [0.89764185 0.10235815]\n",
      " [0.12470504 0.87529496]\n",
      " [0.98864959 0.01135041]\n",
      " [0.02362189 0.97637811]\n",
      " [0.98297165 0.01702835]\n",
      " [0.15419547 0.84580453]\n",
      " [0.97732259 0.02267741]\n",
      " [0.39377527 0.60622473]\n",
      " [0.87382958 0.12617042]\n",
      " [0.43235816 0.56764184]\n",
      " [0.43572549 0.56427451]\n",
      " [0.14206586 0.85793414]\n",
      " [0.1614757  0.8385243 ]\n",
      " [0.17811536 0.82188464]\n",
      " [0.09352936 0.90647064]\n",
      " [0.88200481 0.11799519]\n",
      " [0.15855206 0.84144794]\n",
      " [0.15572787 0.84427213]\n",
      " [0.1948914  0.8051086 ]\n",
      " [0.77315265 0.22684735]\n",
      " [0.50313667 0.49686333]\n",
      " [0.10890954 0.89109046]\n",
      " [0.14547576 0.85452424]\n",
      " [0.4680303  0.5319697 ]\n",
      " [0.14975605 0.85024395]\n",
      " [0.62721964 0.37278036]\n",
      " [0.70840586 0.29159414]\n",
      " [0.95906025 0.04093975]\n",
      " [0.83183127 0.16816873]\n",
      " [0.05365692 0.94634308]\n",
      " [0.94979779 0.05020221]\n",
      " [0.39473673 0.60526327]\n",
      " [0.45513286 0.54486714]\n",
      " [0.99127243 0.00872757]\n",
      " [0.11434604 0.88565396]\n",
      " [0.86389223 0.13610777]\n",
      " [0.61812913 0.38187087]\n",
      " [0.18895107 0.81104893]\n",
      " [0.30578004 0.69421996]\n",
      " [0.96888421 0.03111579]\n",
      " [0.98634437 0.01365563]\n",
      " [0.18410513 0.81589487]\n",
      " [0.98216296 0.01783704]\n",
      " [0.02882618 0.97117382]\n",
      " [0.96007413 0.03992587]\n",
      " [0.96107501 0.03892499]\n",
      " [0.91975871 0.08024129]\n",
      " [0.97556128 0.02443872]\n",
      " [0.97634188 0.02365812]\n",
      " [0.13544561 0.86455439]\n",
      " [0.04076833 0.95923167]\n",
      " [0.98372459 0.01627541]\n",
      " [0.96091787 0.03908213]\n",
      " [0.41558003 0.58441997]\n",
      " [0.10661237 0.89338763]\n",
      " [0.88738923 0.11261077]\n",
      " [0.96643144 0.03356856]\n",
      " [0.99535911 0.00464089]\n",
      " [0.92860804 0.07139196]\n",
      " [0.37653879 0.62346121]\n",
      " [0.94049217 0.05950783]\n",
      " [0.30471835 0.69528165]\n",
      " [0.58173026 0.41826974]\n",
      " [0.82833098 0.17166902]\n",
      " [0.98163283 0.01836717]\n",
      " [0.89369031 0.10630969]\n",
      " [0.96790324 0.03209676]\n",
      " [0.89217737 0.10782263]\n",
      " [0.77927646 0.22072354]\n",
      " [0.50136639 0.49863361]\n",
      " [0.9694226  0.0305774 ]\n",
      " [0.97442463 0.02557537]\n",
      " [0.22087535 0.77912465]\n",
      " [0.90623172 0.09376828]\n",
      " [0.29473349 0.70526651]\n",
      " [0.4917602  0.5082398 ]\n",
      " [0.98737124 0.01262876]\n",
      " [0.03183626 0.96816374]\n",
      " [0.98498507 0.01501493]\n",
      " [0.92987031 0.07012969]\n",
      " [0.02533812 0.97466188]\n",
      " [0.98890345 0.01109655]\n",
      " [0.31161046 0.68838954]\n",
      " [0.28903933 0.71096067]\n",
      " [0.98385171 0.01614829]\n",
      " [0.95125224 0.04874776]\n",
      " [0.58701171 0.41298829]\n",
      " [0.91884797 0.08115203]\n",
      " [0.94659717 0.05340283]\n",
      " [0.94111534 0.05888466]\n",
      " [0.28826519 0.71173481]\n",
      " [0.97173696 0.02826304]\n",
      " [0.03750671 0.96249329]\n",
      " [0.19024945 0.80975055]\n",
      " [0.97199416 0.02800584]\n",
      " [0.03650367 0.96349633]\n",
      " [0.44316867 0.55683133]\n",
      " [0.90940286 0.09059714]\n",
      " [0.15364517 0.84635483]\n",
      " [0.93088255 0.06911745]\n",
      " [0.5654623  0.4345377 ]\n",
      " [0.06284084 0.93715916]\n",
      " [0.19629716 0.80370284]\n",
      " [0.04171907 0.95828093]\n",
      " [0.98476339 0.01523661]\n",
      " [0.65628847 0.34371153]\n",
      " [0.87031533 0.12968467]\n",
      " [0.97511511 0.02488489]\n",
      " [0.75707195 0.24292805]\n",
      " [0.96822087 0.03177913]\n",
      " [0.58190814 0.41809186]\n",
      " [0.9762289  0.0237711 ]\n",
      " [0.96454983 0.03545017]\n",
      " [0.94660106 0.05339894]\n",
      " [0.52289097 0.47710903]\n",
      " [0.95568834 0.04431166]\n",
      " [0.98406282 0.01593718]\n",
      " [0.08174258 0.91825742]\n",
      " [0.94085976 0.05914024]\n",
      " [0.56673545 0.43326455]\n",
      " [0.24344047 0.75655953]\n",
      " [0.88536087 0.11463913]\n",
      " [0.69399935 0.30600065]\n",
      " [0.07679781 0.92320219]\n",
      " [0.08249678 0.91750322]\n",
      " [0.85713679 0.14286321]\n",
      " [0.09799321 0.90200679]\n",
      " [0.03112824 0.96887176]\n",
      " [0.88327395 0.11672605]\n",
      " [0.97730046 0.02269954]\n",
      " [0.046626   0.953374  ]\n",
      " [0.97952006 0.02047994]\n",
      " [0.9763146  0.0236854 ]\n",
      " [0.92945435 0.07054565]\n",
      " [0.16363384 0.83636616]\n",
      " [0.92228833 0.07771167]\n",
      " [0.89531345 0.10468655]\n",
      " [0.97002321 0.02997679]\n",
      " [0.21580865 0.78419135]\n",
      " [0.18886874 0.81113126]\n",
      " [0.98926452 0.01073548]\n",
      " [0.93072913 0.06927087]\n",
      " [0.9182238  0.0817762 ]\n",
      " [0.24235145 0.75764855]\n",
      " [0.96806481 0.03193519]\n",
      " [0.96423265 0.03576735]\n",
      " [0.45847206 0.54152794]\n",
      " [0.96385466 0.03614534]\n",
      " [0.16010176 0.83989824]\n",
      " [0.97337005 0.02662995]\n",
      " [0.14263341 0.85736659]\n",
      " [0.10560522 0.89439478]\n",
      " [0.04888896 0.95111104]\n",
      " [0.14708297 0.85291703]\n",
      " [0.95860547 0.04139453]\n",
      " [0.96248552 0.03751448]\n",
      " [0.97167406 0.02832594]\n",
      " [0.04675915 0.95324085]\n",
      " [0.147476   0.852524  ]\n",
      " [0.94654761 0.05345239]\n",
      " [0.02290809 0.97709191]\n",
      " [0.968225   0.031775  ]\n",
      " [0.94036437 0.05963563]\n",
      " [0.29542436 0.70457564]\n",
      " [0.25081084 0.74918916]\n",
      " [0.9041476  0.0958524 ]\n",
      " [0.3879002  0.6120998 ]\n",
      " [0.61680633 0.38319367]\n",
      " [0.3989803  0.6010197 ]\n",
      " [0.29580855 0.70419145]\n",
      " [0.15257863 0.84742137]\n",
      " [0.92989304 0.07010696]\n",
      " [0.03850094 0.96149906]\n",
      " [0.94473977 0.05526023]\n",
      " [0.08867596 0.91132404]\n",
      " [0.74809192 0.25190808]\n",
      " [0.10266131 0.89733869]\n",
      " [0.98974445 0.01025555]\n",
      " [0.01651267 0.98348733]\n",
      " [0.89677877 0.10322123]\n",
      " [0.05656373 0.94343627]\n",
      " [0.96911056 0.03088944]\n",
      " [0.02111647 0.97888353]\n",
      " [0.97816532 0.02183468]\n",
      " [0.02341228 0.97658772]\n",
      " [0.94596043 0.05403957]\n",
      " [0.02520646 0.97479354]\n",
      " [0.04874646 0.95125354]\n",
      " [0.40198074 0.59801926]\n",
      " [0.93087676 0.06912324]\n",
      " [0.06130578 0.93869422]\n",
      " [0.03885038 0.96114962]\n",
      " [0.97365609 0.02634391]\n",
      " [0.17200694 0.82799306]\n",
      " [0.96871095 0.03128905]\n",
      " [0.83987669 0.16012331]\n",
      " [0.11970307 0.88029693]\n",
      " [0.04648176 0.95351824]\n",
      " [0.08357073 0.91642927]\n",
      " [0.91070326 0.08929674]\n",
      " [0.94813155 0.05186845]\n",
      " [0.26341076 0.73658924]\n",
      " [0.28261295 0.71738705]\n",
      " [0.6832616  0.3167384 ]\n",
      " [0.1537179  0.8462821 ]]\n"
     ]
    }
   ],
   "source": [
    "from sklearn.metrics import roc_curve, roc_auc_score\n",
    "y_pred_prob=clf.predict_proba(x_test)\n",
    "print(y_pred_prob)"
   ]
  },
  {
   "cell_type": "code",
   "execution_count": 107,
   "id": "dd1ceeae",
   "metadata": {},
   "outputs": [],
   "source": [
    "fpr,tpr,threshold = roc_curve(y_test,y_pred_prob[:,1])"
   ]
  },
  {
   "cell_type": "code",
   "execution_count": 108,
   "id": "6b83d0ea",
   "metadata": {},
   "outputs": [],
   "source": [
    "roc_auc=roc_auc_score(y_test,y_pred_prob[:,1])"
   ]
  },
  {
   "cell_type": "code",
   "execution_count": 109,
   "id": "08767e1d",
   "metadata": {},
   "outputs": [
    {
     "data": {
      "text/plain": [
       "5.049593953064722"
      ]
     },
     "execution_count": 109,
     "metadata": {},
     "output_type": "execute_result"
    }
   ],
   "source": [
    "from sklearn.metrics import log_loss\n",
    "log_loss(y_test,y_pred)"
   ]
  },
  {
   "cell_type": "code",
   "execution_count": 110,
   "id": "f2e37b8b",
   "metadata": {},
   "outputs": [
    {
     "data": {
      "image/png": "[encoded data removed]",
      "text/plain": [
       "<Figure size 432x288 with 1 Axes>"
      ]
     },
     "metadata": {
      "needs_background": "light"
     },
     "output_type": "display_data"
    }
   ],
   "source": [
    "plt.title('ROC curve for logloss:liblinear')\n",
    "plt.xlabel('fpr')\n",
    "plt.ylabel('tpr')\n",
    "plt.plot([0,1],[0,1],\"r--\")\n",
    "plt.xlim([0,1])\n",
    "plt.ylim([0,1])\n",
    "plt.plot(fpr,tpr,label='AUC ='+str(roc_auc))\n",
    "plt.legend(loc='best')\n",
    "plt.show()"
   ]
  },
  {
   "cell_type": "code",
   "execution_count": 111,
   "id": "c3de4dc3",
   "metadata": {},
   "outputs": [
    {
     "name": "stdout",
     "output_type": "stream",
     "text": [
      "['Industrials' 'Materials' 'CommunicationServices' 'Transport'\n",
      " 'InformationTechnology' 'Financials' 'Energy' 'Real Estate' 'Utilities'\n",
      " 'ConsumerDiscretionary' 'Education' 'ConsumerStaples' 'Healthcare'\n",
      " 'Research']\n"
     ]
    }
   ],
   "source": [
    "unique_industries = df[\"Industry\"].unique()\n",
    "print(unique_industries)"
   ]
  },
  {
   "cell_type": "code",
   "execution_count": 112,
   "id": "7bcb3f96",
   "metadata": {},
   "outputs": [
    {
     "name": "stdout",
     "output_type": "stream",
     "text": [
      "['White' 'Black' 'Asian' 'Latino' 'Other']\n"
     ]
    }
   ],
   "source": [
    "unique_ethnicity = df[\"Ethnicity\"].unique()\n",
    "print(unique_ethnicity)"
   ]
  },
  {
   "cell_type": "code",
   "execution_count": 113,
   "id": "e8f366d4",
   "metadata": {},
   "outputs": [
    {
     "name": "stdout",
     "output_type": "stream",
     "text": [
      "['ByBirth' 'ByOtherMeans' 'Temporary']\n"
     ]
    }
   ],
   "source": [
    "unique_citizen = df[\"Citizen\"].unique()\n",
    "print(unique_citizen)"
   ]
  }
 ],
 "metadata": {
  "kernelspec": {
   "display_name": "Python 3 (ipykernel)",
   "language": "python",
   "name": "python3"
  },
  "language_info": {
   "codemirror_mode": {
    "name": "ipython",
    "version": 3
   },
   "file_extension": ".py",
   "mimetype": "text/x-python",
   "name": "python",
   "nbconvert_exporter": "python",
   "pygments_lexer": "ipython3",
   "version": "3.10.9"
  }
 },
 "nbformat": 4,
 "nbformat_minor": 5
}
